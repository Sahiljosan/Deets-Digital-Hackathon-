{
 "cells": [
  {
   "cell_type": "markdown",
   "id": "e992aef5",
   "metadata": {},
   "source": [
    "# Hackathon Deets Digital "
   ]
  },
  {
   "cell_type": "markdown",
   "id": "16ac5f4c",
   "metadata": {},
   "source": [
    "![](https://i.imgur.com/QLKrhs7.png)"
   ]
  },
  {
   "cell_type": "markdown",
   "id": "ca57f809",
   "metadata": {},
   "source": [
    "## <font color=\t#68228B>Problem Statement <font>\n",
    "- Predit Future defaulter by analysing the attributes"
   ]
  },
  {
   "cell_type": "markdown",
   "id": "4a0a7b33",
   "metadata": {},
   "source": [
    "# Task we have performed:\n",
    "1. Data Ingestion\n",
    "2. Check Duplicate Values\n",
    "3. Segregate numerical and Categorical features\n",
    "4. Univariate Analysis\n",
    "5. Handle the null values\n",
    "6. Mulivariate analysis\n",
    "\t- Heatmap of correlation\n",
    "7. Questions:\n",
    "\t- How many accounts are Defaulters\n",
    "\t- List of ACC_numbers that are defaulters\n",
    "\t- What is the balance in defauter's Accounts\n",
    "\t- What is the Date of birth of defaulters\n",
    "8. Check and handle the outliers\n",
    "9. List of Top 10 Features with their importance value\n",
    "10. Split the train data and test data `Train Test Split`\n",
    "11. Model Training `Logitic Regression`\n",
    "12. Standadizing \n",
    "13. Prediction\n",
    "14. Accuracy\n",
    "15. Classification Report\n",
    "16. Performance Metrix\n",
    "\t- Precision\n",
    "\t- Recall\n",
    "\t- F1-Score\n",
    "\t- Area Under Curve `AUC`"
   ]
  },
  {
   "cell_type": "markdown",
   "id": "3c0657d4",
   "metadata": {},
   "source": [
    "## Import required libraries"
   ]
  },
  {
   "cell_type": "code",
   "execution_count": 1,
   "id": "d569522c",
   "metadata": {},
   "outputs": [],
   "source": [
    "### Pandas and Numpy\n",
    "import pandas as pd\n",
    "import numpy as np\n",
    "\n",
    "### Visualisation libraries\n",
    "import seaborn as sns\n",
    "import matplotlib.pyplot as plt\n",
    "%matplotlib inline\n",
    "\n",
    "### For Q-Q Plot\n",
    "import scipy.stats as stats\n",
    "\n",
    "### To ignore warnings\n",
    "import warnings\n",
    "warnings.filterwarnings('ignore')\n",
    "\n",
    "### Machine Learning libraries\n",
    "import sklearn\n",
    "from sklearn.model_selection import train_test_split\n",
    "from sklearn.preprocessing import StandardScaler\n",
    "from sklearn.linear_model import LogisticRegression\n",
    "from sklearn.metrics import confusion_matrix, accuracy_score, classification_report\n",
    "from sklearn.feature_selection import SelectKBest,chi2\n",
    "\n",
    "### To be able to see maximum columns on screen\n",
    "pd.set_option('display.max_columns', 500)\n",
    "\n",
    "### To save the model\n",
    "import pickle"
   ]
  },
  {
   "cell_type": "markdown",
   "id": "0778eb12",
   "metadata": {},
   "source": [
    "## Data Ingestion"
   ]
  },
  {
   "cell_type": "code",
   "execution_count": 2,
   "id": "69a8af5d",
   "metadata": {},
   "outputs": [
    {
     "data": {
      "text/html": [
       "<div>\n",
       "<style scoped>\n",
       "    .dataframe tbody tr th:only-of-type {\n",
       "        vertical-align: middle;\n",
       "    }\n",
       "\n",
       "    .dataframe tbody tr th {\n",
       "        vertical-align: top;\n",
       "    }\n",
       "\n",
       "    .dataframe thead th {\n",
       "        text-align: right;\n",
       "    }\n",
       "</style>\n",
       "<table border=\"1\" class=\"dataframe\">\n",
       "  <thead>\n",
       "    <tr style=\"text-align: right;\">\n",
       "      <th></th>\n",
       "      <th>ACCT_NUMBER</th>\n",
       "      <th>BALANCE</th>\n",
       "      <th>SANCTIONAMOUNT</th>\n",
       "      <th>COLLATERALTYPE</th>\n",
       "      <th>COLLATERALVALUE</th>\n",
       "      <th>CREDITLIMIT</th>\n",
       "      <th>DATECLOSED</th>\n",
       "      <th>DATEOPENED</th>\n",
       "      <th>HIGHCREDIT</th>\n",
       "      <th>INSTALLMENTAMOUNT</th>\n",
       "      <th>PASTDUEAMOUNT</th>\n",
       "      <th>REPAYMENTTENURE</th>\n",
       "      <th>TERMFREQUENCY</th>\n",
       "      <th>SELF_TRADE</th>\n",
       "      <th>SECTOR</th>\n",
       "      <th>DOB</th>\n",
       "      <th>Defaulter</th>\n",
       "    </tr>\n",
       "  </thead>\n",
       "  <tbody>\n",
       "    <tr>\n",
       "      <th>0</th>\n",
       "      <td>1024</td>\n",
       "      <td>0.0</td>\n",
       "      <td>50000</td>\n",
       "      <td>NaN</td>\n",
       "      <td>0.0</td>\n",
       "      <td>0.0</td>\n",
       "      <td>2021-09-04</td>\n",
       "      <td>2019-11-29</td>\n",
       "      <td>50000.0</td>\n",
       "      <td>1195.0</td>\n",
       "      <td>0.0</td>\n",
       "      <td>52.0</td>\n",
       "      <td>Bi-weekly</td>\n",
       "      <td>N</td>\n",
       "      <td>NBFC</td>\n",
       "      <td>1971-01-01</td>\n",
       "      <td>0</td>\n",
       "    </tr>\n",
       "    <tr>\n",
       "      <th>1</th>\n",
       "      <td>1025</td>\n",
       "      <td>71704.0</td>\n",
       "      <td>80000</td>\n",
       "      <td>NaN</td>\n",
       "      <td>0.0</td>\n",
       "      <td>0.0</td>\n",
       "      <td>NaT</td>\n",
       "      <td>2021-09-04</td>\n",
       "      <td>80000.0</td>\n",
       "      <td>4146.0</td>\n",
       "      <td>0.0</td>\n",
       "      <td>24.0</td>\n",
       "      <td>Monthly</td>\n",
       "      <td>N</td>\n",
       "      <td>NBFC</td>\n",
       "      <td>1971-01-01</td>\n",
       "      <td>0</td>\n",
       "    </tr>\n",
       "    <tr>\n",
       "      <th>2</th>\n",
       "      <td>1026</td>\n",
       "      <td>0.0</td>\n",
       "      <td>15000</td>\n",
       "      <td>NaN</td>\n",
       "      <td>NaN</td>\n",
       "      <td>NaN</td>\n",
       "      <td>2014-12-16</td>\n",
       "      <td>2014-01-03</td>\n",
       "      <td>NaN</td>\n",
       "      <td>358.0</td>\n",
       "      <td>0.0</td>\n",
       "      <td>NaN</td>\n",
       "      <td>Monthly</td>\n",
       "      <td>NaN</td>\n",
       "      <td>NaN</td>\n",
       "      <td>1988-05-10</td>\n",
       "      <td>0</td>\n",
       "    </tr>\n",
       "    <tr>\n",
       "      <th>3</th>\n",
       "      <td>1027</td>\n",
       "      <td>0.0</td>\n",
       "      <td>20000</td>\n",
       "      <td>NaN</td>\n",
       "      <td>NaN</td>\n",
       "      <td>NaN</td>\n",
       "      <td>2018-02-15</td>\n",
       "      <td>2017-03-15</td>\n",
       "      <td>NaN</td>\n",
       "      <td>907.0</td>\n",
       "      <td>NaN</td>\n",
       "      <td>NaN</td>\n",
       "      <td>Bi-weekly</td>\n",
       "      <td>NaN</td>\n",
       "      <td>NaN</td>\n",
       "      <td>1988-05-10</td>\n",
       "      <td>0</td>\n",
       "    </tr>\n",
       "    <tr>\n",
       "      <th>4</th>\n",
       "      <td>1028</td>\n",
       "      <td>21795.0</td>\n",
       "      <td>21795</td>\n",
       "      <td>NaN</td>\n",
       "      <td>NaN</td>\n",
       "      <td>NaN</td>\n",
       "      <td>NaT</td>\n",
       "      <td>2021-08-15</td>\n",
       "      <td>NaN</td>\n",
       "      <td>NaN</td>\n",
       "      <td>0.0</td>\n",
       "      <td>NaN</td>\n",
       "      <td>Monthly</td>\n",
       "      <td>NaN</td>\n",
       "      <td>NaN</td>\n",
       "      <td>1978-01-01</td>\n",
       "      <td>0</td>\n",
       "    </tr>\n",
       "    <tr>\n",
       "      <th>...</th>\n",
       "      <td>...</td>\n",
       "      <td>...</td>\n",
       "      <td>...</td>\n",
       "      <td>...</td>\n",
       "      <td>...</td>\n",
       "      <td>...</td>\n",
       "      <td>...</td>\n",
       "      <td>...</td>\n",
       "      <td>...</td>\n",
       "      <td>...</td>\n",
       "      <td>...</td>\n",
       "      <td>...</td>\n",
       "      <td>...</td>\n",
       "      <td>...</td>\n",
       "      <td>...</td>\n",
       "      <td>...</td>\n",
       "      <td>...</td>\n",
       "    </tr>\n",
       "    <tr>\n",
       "      <th>10670</th>\n",
       "      <td>11694</td>\n",
       "      <td>4810.0</td>\n",
       "      <td>30000</td>\n",
       "      <td>NaN</td>\n",
       "      <td>NaN</td>\n",
       "      <td>NaN</td>\n",
       "      <td>NaT</td>\n",
       "      <td>2019-02-18</td>\n",
       "      <td>NaN</td>\n",
       "      <td>1650.0</td>\n",
       "      <td>4950.0</td>\n",
       "      <td>NaN</td>\n",
       "      <td>Monthly</td>\n",
       "      <td>NaN</td>\n",
       "      <td>NaN</td>\n",
       "      <td>1989-01-01</td>\n",
       "      <td>1</td>\n",
       "    </tr>\n",
       "    <tr>\n",
       "      <th>10671</th>\n",
       "      <td>11695</td>\n",
       "      <td>43346.0</td>\n",
       "      <td>50000</td>\n",
       "      <td>NaN</td>\n",
       "      <td>NaN</td>\n",
       "      <td>NaN</td>\n",
       "      <td>NaT</td>\n",
       "      <td>2020-01-27</td>\n",
       "      <td>NaN</td>\n",
       "      <td>1800.0</td>\n",
       "      <td>2100.0</td>\n",
       "      <td>NaN</td>\n",
       "      <td>Monthly</td>\n",
       "      <td>NaN</td>\n",
       "      <td>NaN</td>\n",
       "      <td>1989-01-01</td>\n",
       "      <td>1</td>\n",
       "    </tr>\n",
       "    <tr>\n",
       "      <th>10672</th>\n",
       "      <td>11696</td>\n",
       "      <td>16524.0</td>\n",
       "      <td>30000</td>\n",
       "      <td>NaN</td>\n",
       "      <td>NaN</td>\n",
       "      <td>NaN</td>\n",
       "      <td>NaT</td>\n",
       "      <td>2020-02-13</td>\n",
       "      <td>NaN</td>\n",
       "      <td>1500.0</td>\n",
       "      <td>10210.0</td>\n",
       "      <td>NaN</td>\n",
       "      <td>Other</td>\n",
       "      <td>NaN</td>\n",
       "      <td>NaN</td>\n",
       "      <td>1989-01-01</td>\n",
       "      <td>1</td>\n",
       "    </tr>\n",
       "    <tr>\n",
       "      <th>10673</th>\n",
       "      <td>11697</td>\n",
       "      <td>1648.0</td>\n",
       "      <td>30000</td>\n",
       "      <td>NaN</td>\n",
       "      <td>NaN</td>\n",
       "      <td>NaN</td>\n",
       "      <td>NaT</td>\n",
       "      <td>2019-02-18</td>\n",
       "      <td>NaN</td>\n",
       "      <td>1650.0</td>\n",
       "      <td>1650.0</td>\n",
       "      <td>NaN</td>\n",
       "      <td>Monthly</td>\n",
       "      <td>NaN</td>\n",
       "      <td>NaN</td>\n",
       "      <td>1977-01-01</td>\n",
       "      <td>1</td>\n",
       "    </tr>\n",
       "    <tr>\n",
       "      <th>10674</th>\n",
       "      <td>11698</td>\n",
       "      <td>16712.0</td>\n",
       "      <td>30000</td>\n",
       "      <td>NaN</td>\n",
       "      <td>NaN</td>\n",
       "      <td>NaN</td>\n",
       "      <td>NaT</td>\n",
       "      <td>2020-12-21</td>\n",
       "      <td>NaN</td>\n",
       "      <td>1420.0</td>\n",
       "      <td>0.0</td>\n",
       "      <td>NaN</td>\n",
       "      <td>Monthly</td>\n",
       "      <td>NaN</td>\n",
       "      <td>NaN</td>\n",
       "      <td>1977-01-01</td>\n",
       "      <td>1</td>\n",
       "    </tr>\n",
       "  </tbody>\n",
       "</table>\n",
       "<p>10675 rows × 17 columns</p>\n",
       "</div>"
      ],
      "text/plain": [
       "       ACCT_NUMBER  BALANCE  SANCTIONAMOUNT  COLLATERALTYPE  COLLATERALVALUE  \\\n",
       "0             1024      0.0           50000             NaN              0.0   \n",
       "1             1025  71704.0           80000             NaN              0.0   \n",
       "2             1026      0.0           15000             NaN              NaN   \n",
       "3             1027      0.0           20000             NaN              NaN   \n",
       "4             1028  21795.0           21795             NaN              NaN   \n",
       "...            ...      ...             ...             ...              ...   \n",
       "10670        11694   4810.0           30000             NaN              NaN   \n",
       "10671        11695  43346.0           50000             NaN              NaN   \n",
       "10672        11696  16524.0           30000             NaN              NaN   \n",
       "10673        11697   1648.0           30000             NaN              NaN   \n",
       "10674        11698  16712.0           30000             NaN              NaN   \n",
       "\n",
       "       CREDITLIMIT DATECLOSED DATEOPENED  HIGHCREDIT  INSTALLMENTAMOUNT  \\\n",
       "0              0.0 2021-09-04 2019-11-29     50000.0             1195.0   \n",
       "1              0.0        NaT 2021-09-04     80000.0             4146.0   \n",
       "2              NaN 2014-12-16 2014-01-03         NaN              358.0   \n",
       "3              NaN 2018-02-15 2017-03-15         NaN              907.0   \n",
       "4              NaN        NaT 2021-08-15         NaN                NaN   \n",
       "...            ...        ...        ...         ...                ...   \n",
       "10670          NaN        NaT 2019-02-18         NaN             1650.0   \n",
       "10671          NaN        NaT 2020-01-27         NaN             1800.0   \n",
       "10672          NaN        NaT 2020-02-13         NaN             1500.0   \n",
       "10673          NaN        NaT 2019-02-18         NaN             1650.0   \n",
       "10674          NaN        NaT 2020-12-21         NaN             1420.0   \n",
       "\n",
       "       PASTDUEAMOUNT  REPAYMENTTENURE TERMFREQUENCY SELF_TRADE SECTOR  \\\n",
       "0                0.0             52.0     Bi-weekly          N   NBFC   \n",
       "1                0.0             24.0       Monthly          N   NBFC   \n",
       "2                0.0              NaN       Monthly        NaN    NaN   \n",
       "3                NaN              NaN     Bi-weekly        NaN    NaN   \n",
       "4                0.0              NaN       Monthly        NaN    NaN   \n",
       "...              ...              ...           ...        ...    ...   \n",
       "10670         4950.0              NaN       Monthly        NaN    NaN   \n",
       "10671         2100.0              NaN       Monthly        NaN    NaN   \n",
       "10672        10210.0              NaN         Other        NaN    NaN   \n",
       "10673         1650.0              NaN       Monthly        NaN    NaN   \n",
       "10674            0.0              NaN       Monthly        NaN    NaN   \n",
       "\n",
       "             DOB  Defaulter  \n",
       "0     1971-01-01          0  \n",
       "1     1971-01-01          0  \n",
       "2     1988-05-10          0  \n",
       "3     1988-05-10          0  \n",
       "4     1978-01-01          0  \n",
       "...          ...        ...  \n",
       "10670 1989-01-01          1  \n",
       "10671 1989-01-01          1  \n",
       "10672 1989-01-01          1  \n",
       "10673 1977-01-01          1  \n",
       "10674 1977-01-01          1  \n",
       "\n",
       "[10675 rows x 17 columns]"
      ]
     },
     "execution_count": 2,
     "metadata": {},
     "output_type": "execute_result"
    }
   ],
   "source": [
    "df = pd.read_excel(r\"C:\\Users\\M G ENGINEERING\\Downloads\\Hackthon Train Data.xlsx\")\n",
    "df"
   ]
  },
  {
   "cell_type": "code",
   "execution_count": 3,
   "id": "b6c441bb",
   "metadata": {},
   "outputs": [
    {
     "data": {
      "text/plain": [
       "(10675, 17)"
      ]
     },
     "execution_count": 3,
     "metadata": {},
     "output_type": "execute_result"
    }
   ],
   "source": [
    "df.shape"
   ]
  },
  {
   "cell_type": "markdown",
   "id": "c7f5b6fe",
   "metadata": {},
   "source": [
    "We have 10675 records and 17 features"
   ]
  },
  {
   "cell_type": "code",
   "execution_count": 4,
   "id": "380ddc70",
   "metadata": {},
   "outputs": [
    {
     "name": "stdout",
     "output_type": "stream",
     "text": [
      "<class 'pandas.core.frame.DataFrame'>\n",
      "RangeIndex: 10675 entries, 0 to 10674\n",
      "Data columns (total 17 columns):\n",
      " #   Column             Non-Null Count  Dtype         \n",
      "---  ------             --------------  -----         \n",
      " 0   ACCT_NUMBER        10675 non-null  int64         \n",
      " 1   BALANCE            10551 non-null  float64       \n",
      " 2   SANCTIONAMOUNT     10675 non-null  int64         \n",
      " 3   COLLATERALTYPE     868 non-null    float64       \n",
      " 4   COLLATERALVALUE    6245 non-null   float64       \n",
      " 5   CREDITLIMIT        6245 non-null   float64       \n",
      " 6   DATECLOSED         4573 non-null   datetime64[ns]\n",
      " 7   DATEOPENED         10666 non-null  datetime64[ns]\n",
      " 8   HIGHCREDIT         6245 non-null   float64       \n",
      " 9   INSTALLMENTAMOUNT  10169 non-null  float64       \n",
      " 10  PASTDUEAMOUNT      10240 non-null  float64       \n",
      " 11  REPAYMENTTENURE    2691 non-null   float64       \n",
      " 12  TERMFREQUENCY      6994 non-null   object        \n",
      " 13  SELF_TRADE         6245 non-null   object        \n",
      " 14  SECTOR             6245 non-null   object        \n",
      " 15  DOB                10675 non-null  datetime64[ns]\n",
      " 16  Defaulter          10675 non-null  int64         \n",
      "dtypes: datetime64[ns](3), float64(8), int64(3), object(3)\n",
      "memory usage: 1.4+ MB\n"
     ]
    }
   ],
   "source": [
    "df.info()"
   ]
  },
  {
   "cell_type": "markdown",
   "id": "e637a925",
   "metadata": {},
   "source": [
    "## <font color=\t#68228B>Info from the dataset<font>\n",
    "1. The dataset has 15 independent features and 1 dependent feature (Defaulter)\n",
    "2. Only Acc_number, Sanctionamount, DOB, Defaulter have complete records, rest all features have null values "
   ]
  },
  {
   "cell_type": "code",
   "execution_count": 5,
   "id": "09a2435f",
   "metadata": {},
   "outputs": [
    {
     "data": {
      "text/html": [
       "<div>\n",
       "<style scoped>\n",
       "    .dataframe tbody tr th:only-of-type {\n",
       "        vertical-align: middle;\n",
       "    }\n",
       "\n",
       "    .dataframe tbody tr th {\n",
       "        vertical-align: top;\n",
       "    }\n",
       "\n",
       "    .dataframe thead th {\n",
       "        text-align: right;\n",
       "    }\n",
       "</style>\n",
       "<table border=\"1\" class=\"dataframe\">\n",
       "  <thead>\n",
       "    <tr style=\"text-align: right;\">\n",
       "      <th></th>\n",
       "      <th>count</th>\n",
       "      <th>mean</th>\n",
       "      <th>std</th>\n",
       "      <th>min</th>\n",
       "      <th>25%</th>\n",
       "      <th>50%</th>\n",
       "      <th>75%</th>\n",
       "      <th>max</th>\n",
       "    </tr>\n",
       "  </thead>\n",
       "  <tbody>\n",
       "    <tr>\n",
       "      <th>ACCT_NUMBER</th>\n",
       "      <td>10675.0</td>\n",
       "      <td>6361.000</td>\n",
       "      <td>3081.751</td>\n",
       "      <td>1024.0</td>\n",
       "      <td>3692.5</td>\n",
       "      <td>6361.0</td>\n",
       "      <td>9029.5</td>\n",
       "      <td>11698.0</td>\n",
       "    </tr>\n",
       "    <tr>\n",
       "      <th>BALANCE</th>\n",
       "      <td>10551.0</td>\n",
       "      <td>51869.537</td>\n",
       "      <td>156534.752</td>\n",
       "      <td>-694111.0</td>\n",
       "      <td>0.0</td>\n",
       "      <td>3417.0</td>\n",
       "      <td>34375.0</td>\n",
       "      <td>2834639.0</td>\n",
       "    </tr>\n",
       "    <tr>\n",
       "      <th>SANCTIONAMOUNT</th>\n",
       "      <td>10675.0</td>\n",
       "      <td>207586.186</td>\n",
       "      <td>1799926.002</td>\n",
       "      <td>0.0</td>\n",
       "      <td>15124.0</td>\n",
       "      <td>30000.0</td>\n",
       "      <td>68630.0</td>\n",
       "      <td>28022020.0</td>\n",
       "    </tr>\n",
       "    <tr>\n",
       "      <th>COLLATERALTYPE</th>\n",
       "      <td>868.0</td>\n",
       "      <td>1.229</td>\n",
       "      <td>0.517</td>\n",
       "      <td>1.0</td>\n",
       "      <td>1.0</td>\n",
       "      <td>1.0</td>\n",
       "      <td>1.0</td>\n",
       "      <td>4.0</td>\n",
       "    </tr>\n",
       "    <tr>\n",
       "      <th>COLLATERALVALUE</th>\n",
       "      <td>6245.0</td>\n",
       "      <td>89999.246</td>\n",
       "      <td>1012371.261</td>\n",
       "      <td>0.0</td>\n",
       "      <td>0.0</td>\n",
       "      <td>0.0</td>\n",
       "      <td>0.0</td>\n",
       "      <td>74000000.0</td>\n",
       "    </tr>\n",
       "    <tr>\n",
       "      <th>CREDITLIMIT</th>\n",
       "      <td>6245.0</td>\n",
       "      <td>2114.777</td>\n",
       "      <td>28547.775</td>\n",
       "      <td>0.0</td>\n",
       "      <td>0.0</td>\n",
       "      <td>0.0</td>\n",
       "      <td>0.0</td>\n",
       "      <td>1850000.0</td>\n",
       "    </tr>\n",
       "    <tr>\n",
       "      <th>HIGHCREDIT</th>\n",
       "      <td>6245.0</td>\n",
       "      <td>335662.250</td>\n",
       "      <td>2344883.784</td>\n",
       "      <td>0.0</td>\n",
       "      <td>20000.0</td>\n",
       "      <td>50000.0</td>\n",
       "      <td>156472.0</td>\n",
       "      <td>28022020.0</td>\n",
       "    </tr>\n",
       "    <tr>\n",
       "      <th>INSTALLMENTAMOUNT</th>\n",
       "      <td>10169.0</td>\n",
       "      <td>2701.595</td>\n",
       "      <td>32922.804</td>\n",
       "      <td>0.0</td>\n",
       "      <td>0.0</td>\n",
       "      <td>600.0</td>\n",
       "      <td>1910.0</td>\n",
       "      <td>1980579.0</td>\n",
       "    </tr>\n",
       "    <tr>\n",
       "      <th>PASTDUEAMOUNT</th>\n",
       "      <td>10240.0</td>\n",
       "      <td>5565.070</td>\n",
       "      <td>43013.834</td>\n",
       "      <td>0.0</td>\n",
       "      <td>0.0</td>\n",
       "      <td>0.0</td>\n",
       "      <td>0.0</td>\n",
       "      <td>2543111.0</td>\n",
       "    </tr>\n",
       "    <tr>\n",
       "      <th>REPAYMENTTENURE</th>\n",
       "      <td>2691.0</td>\n",
       "      <td>47.781</td>\n",
       "      <td>50.264</td>\n",
       "      <td>1.0</td>\n",
       "      <td>12.0</td>\n",
       "      <td>30.0</td>\n",
       "      <td>60.0</td>\n",
       "      <td>502.0</td>\n",
       "    </tr>\n",
       "    <tr>\n",
       "      <th>Defaulter</th>\n",
       "      <td>10675.0</td>\n",
       "      <td>0.150</td>\n",
       "      <td>0.357</td>\n",
       "      <td>0.0</td>\n",
       "      <td>0.0</td>\n",
       "      <td>0.0</td>\n",
       "      <td>0.0</td>\n",
       "      <td>1.0</td>\n",
       "    </tr>\n",
       "  </tbody>\n",
       "</table>\n",
       "</div>"
      ],
      "text/plain": [
       "                     count        mean          std       min      25%  \\\n",
       "ACCT_NUMBER        10675.0    6361.000     3081.751    1024.0   3692.5   \n",
       "BALANCE            10551.0   51869.537   156534.752 -694111.0      0.0   \n",
       "SANCTIONAMOUNT     10675.0  207586.186  1799926.002       0.0  15124.0   \n",
       "COLLATERALTYPE       868.0       1.229        0.517       1.0      1.0   \n",
       "COLLATERALVALUE     6245.0   89999.246  1012371.261       0.0      0.0   \n",
       "CREDITLIMIT         6245.0    2114.777    28547.775       0.0      0.0   \n",
       "HIGHCREDIT          6245.0  335662.250  2344883.784       0.0  20000.0   \n",
       "INSTALLMENTAMOUNT  10169.0    2701.595    32922.804       0.0      0.0   \n",
       "PASTDUEAMOUNT      10240.0    5565.070    43013.834       0.0      0.0   \n",
       "REPAYMENTTENURE     2691.0      47.781       50.264       1.0     12.0   \n",
       "Defaulter          10675.0       0.150        0.357       0.0      0.0   \n",
       "\n",
       "                       50%       75%         max  \n",
       "ACCT_NUMBER         6361.0    9029.5     11698.0  \n",
       "BALANCE             3417.0   34375.0   2834639.0  \n",
       "SANCTIONAMOUNT     30000.0   68630.0  28022020.0  \n",
       "COLLATERALTYPE         1.0       1.0         4.0  \n",
       "COLLATERALVALUE        0.0       0.0  74000000.0  \n",
       "CREDITLIMIT            0.0       0.0   1850000.0  \n",
       "HIGHCREDIT         50000.0  156472.0  28022020.0  \n",
       "INSTALLMENTAMOUNT    600.0    1910.0   1980579.0  \n",
       "PASTDUEAMOUNT          0.0       0.0   2543111.0  \n",
       "REPAYMENTTENURE       30.0      60.0       502.0  \n",
       "Defaulter              0.0       0.0         1.0  "
      ]
     },
     "execution_count": 5,
     "metadata": {},
     "output_type": "execute_result"
    }
   ],
   "source": [
    "round(df.describe().T,3)"
   ]
  },
  {
   "cell_type": "markdown",
   "id": "fa0ed76f",
   "metadata": {},
   "source": [
    "## Check if there is any duplicate value"
   ]
  },
  {
   "cell_type": "code",
   "execution_count": 6,
   "id": "21a27f6d",
   "metadata": {},
   "outputs": [
    {
     "data": {
      "text/plain": [
       "0"
      ]
     },
     "execution_count": 6,
     "metadata": {},
     "output_type": "execute_result"
    }
   ],
   "source": [
    "df.duplicated().sum() # No duplicate value"
   ]
  },
  {
   "cell_type": "markdown",
   "id": "a3fb9087",
   "metadata": {},
   "source": [
    "## Convert Bi-weekly to Bi_weekly "
   ]
  },
  {
   "cell_type": "code",
   "execution_count": 7,
   "id": "ee684e50",
   "metadata": {},
   "outputs": [],
   "source": [
    "df['TERMFREQUENCY'].replace(\"Bi-weekly\",'Bi_weekly',inplace = True)"
   ]
  },
  {
   "cell_type": "markdown",
   "id": "a18a2210",
   "metadata": {},
   "source": [
    "## Segregate numerical and categorical features"
   ]
  },
  {
   "cell_type": "code",
   "execution_count": 8,
   "id": "c92101a8",
   "metadata": {},
   "outputs": [
    {
     "data": {
      "text/plain": [
       "['ACCT_NUMBER',\n",
       " 'BALANCE',\n",
       " 'SANCTIONAMOUNT',\n",
       " 'COLLATERALTYPE',\n",
       " 'COLLATERALVALUE',\n",
       " 'CREDITLIMIT',\n",
       " 'DATECLOSED',\n",
       " 'DATEOPENED',\n",
       " 'HIGHCREDIT',\n",
       " 'INSTALLMENTAMOUNT',\n",
       " 'PASTDUEAMOUNT',\n",
       " 'REPAYMENTTENURE',\n",
       " 'DOB',\n",
       " 'Defaulter']"
      ]
     },
     "execution_count": 8,
     "metadata": {},
     "output_type": "execute_result"
    }
   ],
   "source": [
    "num_features = [fea for fea in df.columns if df[fea].dtypes != \"O\"]\n",
    "num_features"
   ]
  },
  {
   "cell_type": "code",
   "execution_count": 9,
   "id": "90815056",
   "metadata": {
    "scrolled": true
   },
   "outputs": [
    {
     "data": {
      "text/plain": [
       "['TERMFREQUENCY', 'SELF_TRADE', 'SECTOR']"
      ]
     },
     "execution_count": 9,
     "metadata": {},
     "output_type": "execute_result"
    }
   ],
   "source": [
    "categorical_features = [fea for fea in df.columns if df[fea].dtypes == \"O\"]\n",
    "categorical_features"
   ]
  },
  {
   "cell_type": "markdown",
   "id": "d6b899b2",
   "metadata": {},
   "source": [
    "## Univariate analysis"
   ]
  },
  {
   "cell_type": "code",
   "execution_count": 10,
   "id": "66200f24",
   "metadata": {
    "scrolled": false
   },
   "outputs": [
    {
     "data": {
      "image/png": "[encoded data removed]",
      "text/plain": [
       "<Figure size 1080x1080 with 14 Axes>"
      ]
     },
     "metadata": {
      "needs_background": "light"
     },
     "output_type": "display_data"
    }
   ],
   "source": [
    "plt.figure(figsize = (15,15))\n",
    "plt.suptitle('Univariate Analysis of all features', fontsize = 20, fontweight = \"bold\", alpha = 0.8, y = 1.)\n",
    "\n",
    "for i in range(0, len(num_features)):\n",
    "    plt.subplot(5,3,i+1)\n",
    "    sns.kdeplot(df[num_features[i]], shade =True, color='r')\n",
    "    plt.xlabel(num_features[i])\n",
    "    plt.tight_layout()"
   ]
  },
  {
   "cell_type": "markdown",
   "id": "79f786e2",
   "metadata": {},
   "source": [
    "## Check the null values"
   ]
  },
  {
   "cell_type": "code",
   "execution_count": 11,
   "id": "80efe8b8",
   "metadata": {},
   "outputs": [
    {
     "data": {
      "text/plain": [
       "ACCT_NUMBER             0\n",
       "BALANCE               124\n",
       "SANCTIONAMOUNT          0\n",
       "COLLATERALTYPE       9807\n",
       "COLLATERALVALUE      4430\n",
       "CREDITLIMIT          4430\n",
       "DATECLOSED           6102\n",
       "DATEOPENED              9\n",
       "HIGHCREDIT           4430\n",
       "INSTALLMENTAMOUNT     506\n",
       "PASTDUEAMOUNT         435\n",
       "REPAYMENTTENURE      7984\n",
       "TERMFREQUENCY        3681\n",
       "SELF_TRADE           4430\n",
       "SECTOR               4430\n",
       "DOB                     0\n",
       "Defaulter               0\n",
       "dtype: int64"
      ]
     },
     "execution_count": 11,
     "metadata": {},
     "output_type": "execute_result"
    }
   ],
   "source": [
    "df.isna().sum()"
   ]
  },
  {
   "cell_type": "code",
   "execution_count": 12,
   "id": "15a1eab6",
   "metadata": {},
   "outputs": [
    {
     "data": {
      "text/html": [
       "<div>\n",
       "<style scoped>\n",
       "    .dataframe tbody tr th:only-of-type {\n",
       "        vertical-align: middle;\n",
       "    }\n",
       "\n",
       "    .dataframe tbody tr th {\n",
       "        vertical-align: top;\n",
       "    }\n",
       "\n",
       "    .dataframe thead th {\n",
       "        text-align: right;\n",
       "    }\n",
       "</style>\n",
       "<table border=\"1\" class=\"dataframe\">\n",
       "  <thead>\n",
       "    <tr style=\"text-align: right;\">\n",
       "      <th></th>\n",
       "      <th>ACCT_NUMBER</th>\n",
       "      <th>BALANCE</th>\n",
       "      <th>SANCTIONAMOUNT</th>\n",
       "      <th>COLLATERALTYPE</th>\n",
       "      <th>COLLATERALVALUE</th>\n",
       "      <th>CREDITLIMIT</th>\n",
       "      <th>DATECLOSED</th>\n",
       "      <th>DATEOPENED</th>\n",
       "      <th>HIGHCREDIT</th>\n",
       "      <th>INSTALLMENTAMOUNT</th>\n",
       "      <th>PASTDUEAMOUNT</th>\n",
       "      <th>REPAYMENTTENURE</th>\n",
       "      <th>TERMFREQUENCY</th>\n",
       "      <th>SELF_TRADE</th>\n",
       "      <th>SECTOR</th>\n",
       "      <th>DOB</th>\n",
       "      <th>Defaulter</th>\n",
       "    </tr>\n",
       "  </thead>\n",
       "  <tbody>\n",
       "    <tr>\n",
       "      <th>138</th>\n",
       "      <td>1162</td>\n",
       "      <td>NaN</td>\n",
       "      <td>15000</td>\n",
       "      <td>NaN</td>\n",
       "      <td>NaN</td>\n",
       "      <td>NaN</td>\n",
       "      <td>2016-03-31</td>\n",
       "      <td>2015-03-28</td>\n",
       "      <td>NaN</td>\n",
       "      <td>NaN</td>\n",
       "      <td>NaN</td>\n",
       "      <td>NaN</td>\n",
       "      <td>Other</td>\n",
       "      <td>NaN</td>\n",
       "      <td>NaN</td>\n",
       "      <td>1978-01-01</td>\n",
       "      <td>0</td>\n",
       "    </tr>\n",
       "    <tr>\n",
       "      <th>405</th>\n",
       "      <td>1429</td>\n",
       "      <td>NaN</td>\n",
       "      <td>1772</td>\n",
       "      <td>NaN</td>\n",
       "      <td>NaN</td>\n",
       "      <td>NaN</td>\n",
       "      <td>2014-12-03</td>\n",
       "      <td>2014-06-11</td>\n",
       "      <td>NaN</td>\n",
       "      <td>74.0</td>\n",
       "      <td>NaN</td>\n",
       "      <td>NaN</td>\n",
       "      <td>Weekly</td>\n",
       "      <td>NaN</td>\n",
       "      <td>NaN</td>\n",
       "      <td>1986-01-01</td>\n",
       "      <td>0</td>\n",
       "    </tr>\n",
       "    <tr>\n",
       "      <th>802</th>\n",
       "      <td>1826</td>\n",
       "      <td>NaN</td>\n",
       "      <td>15000</td>\n",
       "      <td>NaN</td>\n",
       "      <td>NaN</td>\n",
       "      <td>NaN</td>\n",
       "      <td>2016-02-24</td>\n",
       "      <td>2015-02-24</td>\n",
       "      <td>NaN</td>\n",
       "      <td>NaN</td>\n",
       "      <td>NaN</td>\n",
       "      <td>NaN</td>\n",
       "      <td>Other</td>\n",
       "      <td>NaN</td>\n",
       "      <td>NaN</td>\n",
       "      <td>1985-01-01</td>\n",
       "      <td>0</td>\n",
       "    </tr>\n",
       "    <tr>\n",
       "      <th>1095</th>\n",
       "      <td>2119</td>\n",
       "      <td>NaN</td>\n",
       "      <td>15000</td>\n",
       "      <td>NaN</td>\n",
       "      <td>NaN</td>\n",
       "      <td>NaN</td>\n",
       "      <td>2015-10-15</td>\n",
       "      <td>2014-10-18</td>\n",
       "      <td>NaN</td>\n",
       "      <td>NaN</td>\n",
       "      <td>NaN</td>\n",
       "      <td>NaN</td>\n",
       "      <td>Other</td>\n",
       "      <td>NaN</td>\n",
       "      <td>NaN</td>\n",
       "      <td>1974-01-01</td>\n",
       "      <td>0</td>\n",
       "    </tr>\n",
       "    <tr>\n",
       "      <th>1199</th>\n",
       "      <td>2223</td>\n",
       "      <td>NaN</td>\n",
       "      <td>15000</td>\n",
       "      <td>NaN</td>\n",
       "      <td>NaN</td>\n",
       "      <td>NaN</td>\n",
       "      <td>2016-03-18</td>\n",
       "      <td>2015-03-21</td>\n",
       "      <td>NaN</td>\n",
       "      <td>NaN</td>\n",
       "      <td>NaN</td>\n",
       "      <td>NaN</td>\n",
       "      <td>Other</td>\n",
       "      <td>NaN</td>\n",
       "      <td>NaN</td>\n",
       "      <td>1967-01-01</td>\n",
       "      <td>0</td>\n",
       "    </tr>\n",
       "    <tr>\n",
       "      <th>...</th>\n",
       "      <td>...</td>\n",
       "      <td>...</td>\n",
       "      <td>...</td>\n",
       "      <td>...</td>\n",
       "      <td>...</td>\n",
       "      <td>...</td>\n",
       "      <td>...</td>\n",
       "      <td>...</td>\n",
       "      <td>...</td>\n",
       "      <td>...</td>\n",
       "      <td>...</td>\n",
       "      <td>...</td>\n",
       "      <td>...</td>\n",
       "      <td>...</td>\n",
       "      <td>...</td>\n",
       "      <td>...</td>\n",
       "      <td>...</td>\n",
       "    </tr>\n",
       "    <tr>\n",
       "      <th>10493</th>\n",
       "      <td>11517</td>\n",
       "      <td>NaN</td>\n",
       "      <td>14959</td>\n",
       "      <td>NaN</td>\n",
       "      <td>NaN</td>\n",
       "      <td>NaN</td>\n",
       "      <td>2016-04-01</td>\n",
       "      <td>2015-04-17</td>\n",
       "      <td>NaN</td>\n",
       "      <td>335.0</td>\n",
       "      <td>NaN</td>\n",
       "      <td>NaN</td>\n",
       "      <td>Weekly</td>\n",
       "      <td>NaN</td>\n",
       "      <td>NaN</td>\n",
       "      <td>1984-01-28</td>\n",
       "      <td>1</td>\n",
       "    </tr>\n",
       "    <tr>\n",
       "      <th>10494</th>\n",
       "      <td>11518</td>\n",
       "      <td>NaN</td>\n",
       "      <td>2022</td>\n",
       "      <td>NaN</td>\n",
       "      <td>NaN</td>\n",
       "      <td>NaN</td>\n",
       "      <td>2016-01-29</td>\n",
       "      <td>2015-08-07</td>\n",
       "      <td>NaN</td>\n",
       "      <td>84.0</td>\n",
       "      <td>NaN</td>\n",
       "      <td>NaN</td>\n",
       "      <td>Weekly</td>\n",
       "      <td>NaN</td>\n",
       "      <td>NaN</td>\n",
       "      <td>1984-01-28</td>\n",
       "      <td>1</td>\n",
       "    </tr>\n",
       "    <tr>\n",
       "      <th>10584</th>\n",
       "      <td>11608</td>\n",
       "      <td>NaN</td>\n",
       "      <td>9049</td>\n",
       "      <td>NaN</td>\n",
       "      <td>NaN</td>\n",
       "      <td>NaN</td>\n",
       "      <td>2021-03-07</td>\n",
       "      <td>2020-03-07</td>\n",
       "      <td>NaN</td>\n",
       "      <td>380.0</td>\n",
       "      <td>0.0</td>\n",
       "      <td>NaN</td>\n",
       "      <td>Weekly</td>\n",
       "      <td>NaN</td>\n",
       "      <td>NaN</td>\n",
       "      <td>1982-01-01</td>\n",
       "      <td>1</td>\n",
       "    </tr>\n",
       "    <tr>\n",
       "      <th>10638</th>\n",
       "      <td>11662</td>\n",
       "      <td>NaN</td>\n",
       "      <td>40000</td>\n",
       "      <td>NaN</td>\n",
       "      <td>NaN</td>\n",
       "      <td>NaN</td>\n",
       "      <td>2021-09-16</td>\n",
       "      <td>2020-08-04</td>\n",
       "      <td>NaN</td>\n",
       "      <td>910.0</td>\n",
       "      <td>NaN</td>\n",
       "      <td>NaN</td>\n",
       "      <td>Weekly</td>\n",
       "      <td>NaN</td>\n",
       "      <td>NaN</td>\n",
       "      <td>1995-01-01</td>\n",
       "      <td>1</td>\n",
       "    </tr>\n",
       "    <tr>\n",
       "      <th>10652</th>\n",
       "      <td>11676</td>\n",
       "      <td>NaN</td>\n",
       "      <td>38652</td>\n",
       "      <td>NaN</td>\n",
       "      <td>NaN</td>\n",
       "      <td>NaN</td>\n",
       "      <td>2021-03-05</td>\n",
       "      <td>2019-12-13</td>\n",
       "      <td>NaN</td>\n",
       "      <td>850.0</td>\n",
       "      <td>0.0</td>\n",
       "      <td>NaN</td>\n",
       "      <td>Weekly</td>\n",
       "      <td>NaN</td>\n",
       "      <td>NaN</td>\n",
       "      <td>1996-03-02</td>\n",
       "      <td>1</td>\n",
       "    </tr>\n",
       "  </tbody>\n",
       "</table>\n",
       "<p>124 rows × 17 columns</p>\n",
       "</div>"
      ],
      "text/plain": [
       "       ACCT_NUMBER  BALANCE  SANCTIONAMOUNT  COLLATERALTYPE  COLLATERALVALUE  \\\n",
       "138           1162      NaN           15000             NaN              NaN   \n",
       "405           1429      NaN            1772             NaN              NaN   \n",
       "802           1826      NaN           15000             NaN              NaN   \n",
       "1095          2119      NaN           15000             NaN              NaN   \n",
       "1199          2223      NaN           15000             NaN              NaN   \n",
       "...            ...      ...             ...             ...              ...   \n",
       "10493        11517      NaN           14959             NaN              NaN   \n",
       "10494        11518      NaN            2022             NaN              NaN   \n",
       "10584        11608      NaN            9049             NaN              NaN   \n",
       "10638        11662      NaN           40000             NaN              NaN   \n",
       "10652        11676      NaN           38652             NaN              NaN   \n",
       "\n",
       "       CREDITLIMIT DATECLOSED DATEOPENED  HIGHCREDIT  INSTALLMENTAMOUNT  \\\n",
       "138            NaN 2016-03-31 2015-03-28         NaN                NaN   \n",
       "405            NaN 2014-12-03 2014-06-11         NaN               74.0   \n",
       "802            NaN 2016-02-24 2015-02-24         NaN                NaN   \n",
       "1095           NaN 2015-10-15 2014-10-18         NaN                NaN   \n",
       "1199           NaN 2016-03-18 2015-03-21         NaN                NaN   \n",
       "...            ...        ...        ...         ...                ...   \n",
       "10493          NaN 2016-04-01 2015-04-17         NaN              335.0   \n",
       "10494          NaN 2016-01-29 2015-08-07         NaN               84.0   \n",
       "10584          NaN 2021-03-07 2020-03-07         NaN              380.0   \n",
       "10638          NaN 2021-09-16 2020-08-04         NaN              910.0   \n",
       "10652          NaN 2021-03-05 2019-12-13         NaN              850.0   \n",
       "\n",
       "       PASTDUEAMOUNT  REPAYMENTTENURE TERMFREQUENCY SELF_TRADE SECTOR  \\\n",
       "138              NaN              NaN         Other        NaN    NaN   \n",
       "405              NaN              NaN        Weekly        NaN    NaN   \n",
       "802              NaN              NaN         Other        NaN    NaN   \n",
       "1095             NaN              NaN         Other        NaN    NaN   \n",
       "1199             NaN              NaN         Other        NaN    NaN   \n",
       "...              ...              ...           ...        ...    ...   \n",
       "10493            NaN              NaN        Weekly        NaN    NaN   \n",
       "10494            NaN              NaN        Weekly        NaN    NaN   \n",
       "10584            0.0              NaN        Weekly        NaN    NaN   \n",
       "10638            NaN              NaN        Weekly        NaN    NaN   \n",
       "10652            0.0              NaN        Weekly        NaN    NaN   \n",
       "\n",
       "             DOB  Defaulter  \n",
       "138   1978-01-01          0  \n",
       "405   1986-01-01          0  \n",
       "802   1985-01-01          0  \n",
       "1095  1974-01-01          0  \n",
       "1199  1967-01-01          0  \n",
       "...          ...        ...  \n",
       "10493 1984-01-28          1  \n",
       "10494 1984-01-28          1  \n",
       "10584 1982-01-01          1  \n",
       "10638 1995-01-01          1  \n",
       "10652 1996-03-02          1  \n",
       "\n",
       "[124 rows x 17 columns]"
      ]
     },
     "execution_count": 12,
     "metadata": {},
     "output_type": "execute_result"
    }
   ],
   "source": [
    "# check null value in BALANCE Feature\n",
    "df[df['BALANCE'].isna()]"
   ]
  },
  {
   "cell_type": "code",
   "execution_count": 13,
   "id": "75223e62",
   "metadata": {},
   "outputs": [
    {
     "data": {
      "text/plain": [
       "Int64Index([  138,   405,   802,  1095,  1199,  1241,  1406,  1833,  2396,\n",
       "             2441,\n",
       "            ...\n",
       "            10129, 10130, 10132, 10133, 10266, 10493, 10494, 10584, 10638,\n",
       "            10652],\n",
       "           dtype='int64', length=124)"
      ]
     },
     "execution_count": 13,
     "metadata": {},
     "output_type": "execute_result"
    }
   ],
   "source": [
    "df[df['BALANCE'].isna()].index"
   ]
  },
  {
   "cell_type": "markdown",
   "id": "65ceebef",
   "metadata": {},
   "source": [
    "We will drop these indexes from the dataset because it shows null value in all important features"
   ]
  },
  {
   "cell_type": "markdown",
   "id": "9968476a",
   "metadata": {},
   "source": [
    "## Drop BALANCE Features which has null values"
   ]
  },
  {
   "cell_type": "code",
   "execution_count": 14,
   "id": "d78cae84",
   "metadata": {},
   "outputs": [],
   "source": [
    "df.drop(df[df['BALANCE'].isna()].index, axis = 0, inplace = True)"
   ]
  },
  {
   "cell_type": "markdown",
   "id": "972098de",
   "metadata": {},
   "source": [
    "## Replace null values of PASTDUEAMOUNT\n",
    "we have to replace null values of PASTDUEAMOUNT with median , because from the univariant analysis we have seen that distribution of PASTDUEAMOUNT is right skewed"
   ]
  },
  {
   "cell_type": "code",
   "execution_count": 15,
   "id": "6bb2916e",
   "metadata": {},
   "outputs": [],
   "source": [
    "df[\"PASTDUEAMOUNT\"].fillna(df['PASTDUEAMOUNT'].median(),inplace = True)"
   ]
  },
  {
   "cell_type": "code",
   "execution_count": 16,
   "id": "2ce4a11a",
   "metadata": {},
   "outputs": [
    {
     "data": {
      "text/plain": [
       "0"
      ]
     },
     "execution_count": 16,
     "metadata": {},
     "output_type": "execute_result"
    }
   ],
   "source": [
    "df['PASTDUEAMOUNT'].isna().sum()"
   ]
  },
  {
   "cell_type": "markdown",
   "id": "e126520d",
   "metadata": {},
   "source": [
    "## Remove null values of numercial data"
   ]
  },
  {
   "cell_type": "code",
   "execution_count": 17,
   "id": "3773bc46",
   "metadata": {},
   "outputs": [],
   "source": [
    "\n",
    "df['INSTALLMENTAMOUNT'].fillna(df['INSTALLMENTAMOUNT'].median(),inplace = True)\n",
    "df['COLLATERALTYPE'].fillna(df['COLLATERALTYPE'].median(),inplace = True)\n",
    "df['CREDITLIMIT'].fillna(df['CREDITLIMIT'].median(),inplace = True)\n",
    "\n",
    "## for DATECLOSED we will replace null value with mode\n",
    "df['DATECLOSED'].fillna(df['DATECLOSED'].mode()[0],inplace = True)\n",
    "df['DATEOPENED'].fillna(df['DATEOPENED'].mode()[0],inplace = True)\n",
    "df['REPAYMENTTENURE'].fillna(df['REPAYMENTTENURE'].mode()[0],inplace = True)\n",
    "\n",
    "df['HIGHCREDIT'].fillna(df['HIGHCREDIT'].median(),inplace = True)"
   ]
  },
  {
   "cell_type": "code",
   "execution_count": 18,
   "id": "03fb99ee",
   "metadata": {},
   "outputs": [],
   "source": [
    "df['COLLATERALVALUE'].fillna(df['COLLATERALVALUE'].median(),inplace = True) "
   ]
  },
  {
   "cell_type": "markdown",
   "id": "04f309cd",
   "metadata": {},
   "source": [
    "## Remove null values of categorical data"
   ]
  },
  {
   "cell_type": "code",
   "execution_count": 19,
   "id": "6e98528d",
   "metadata": {},
   "outputs": [
    {
     "data": {
      "text/plain": [
       "Monthly         4346\n",
       "Weekly          1083\n",
       "Other            795\n",
       "Bi_weekly        622\n",
       "Quarterly         13\n",
       "Bimonthly         10\n",
       "Semiannually       1\n",
       "Name: TERMFREQUENCY, dtype: int64"
      ]
     },
     "execution_count": 19,
     "metadata": {},
     "output_type": "execute_result"
    }
   ],
   "source": [
    "df.TERMFREQUENCY.value_counts()"
   ]
  },
  {
   "cell_type": "code",
   "execution_count": 20,
   "id": "220396bb",
   "metadata": {},
   "outputs": [
    {
     "data": {
      "text/plain": [
       "BANKS       3172\n",
       "NBFC        2659\n",
       "MORTGAGE     372\n",
       "OTHER         42\n",
       "Name: SECTOR, dtype: int64"
      ]
     },
     "execution_count": 20,
     "metadata": {},
     "output_type": "execute_result"
    }
   ],
   "source": [
    "df.SECTOR.value_counts()"
   ]
  },
  {
   "cell_type": "code",
   "execution_count": 21,
   "id": "5a04b5c8",
   "metadata": {},
   "outputs": [],
   "source": [
    "df['TERMFREQUENCY'].fillna(df['TERMFREQUENCY'].mode()[0],inplace = True)\n",
    "df['SELF_TRADE'].fillna(df['SELF_TRADE'].mode()[0],inplace = True)\n",
    "df['SECTOR'].fillna(df['SECTOR'].mode()[0],inplace = True)"
   ]
  },
  {
   "cell_type": "markdown",
   "id": "69b45003",
   "metadata": {},
   "source": [
    "## All null values are removed"
   ]
  },
  {
   "cell_type": "code",
   "execution_count": 22,
   "id": "d9137ffc",
   "metadata": {
    "scrolled": true
   },
   "outputs": [
    {
     "data": {
      "text/plain": [
       "ACCT_NUMBER          0\n",
       "BALANCE              0\n",
       "SANCTIONAMOUNT       0\n",
       "COLLATERALTYPE       0\n",
       "COLLATERALVALUE      0\n",
       "CREDITLIMIT          0\n",
       "DATECLOSED           0\n",
       "DATEOPENED           0\n",
       "HIGHCREDIT           0\n",
       "INSTALLMENTAMOUNT    0\n",
       "PASTDUEAMOUNT        0\n",
       "REPAYMENTTENURE      0\n",
       "TERMFREQUENCY        0\n",
       "SELF_TRADE           0\n",
       "SECTOR               0\n",
       "DOB                  0\n",
       "Defaulter            0\n",
       "dtype: int64"
      ]
     },
     "execution_count": 22,
     "metadata": {},
     "output_type": "execute_result"
    }
   ],
   "source": [
    "df.isna().sum()"
   ]
  },
  {
   "cell_type": "code",
   "execution_count": 23,
   "id": "b160fa18",
   "metadata": {},
   "outputs": [],
   "source": [
    "# Now see the distribution of the data"
   ]
  },
  {
   "cell_type": "code",
   "execution_count": 24,
   "id": "36394243",
   "metadata": {},
   "outputs": [
    {
     "data": {
      "image/png": "[encoded data removed]",
      "text/plain": [
       "<Figure size 1080x1080 with 14 Axes>"
      ]
     },
     "metadata": {
      "needs_background": "light"
     },
     "output_type": "display_data"
    }
   ],
   "source": [
    "plt.figure(figsize = (15,15))\n",
    "plt.suptitle('Univariate Analysis of all features', fontsize = 20, fontweight = \"bold\", alpha = 0.8, y = 1.)\n",
    "\n",
    "for i in range(0, len(num_features)):\n",
    "    plt.subplot(5,3,i+1)\n",
    "    sns.kdeplot(df[num_features[i]], shade =True, color='r')\n",
    "    plt.xlabel(num_features[i])\n",
    "    plt.tight_layout()"
   ]
  },
  {
   "cell_type": "markdown",
   "id": "6c64aa6f",
   "metadata": {},
   "source": [
    "## Statistical Analysis"
   ]
  },
  {
   "cell_type": "code",
   "execution_count": 25,
   "id": "a045f429",
   "metadata": {},
   "outputs": [
    {
     "data": {
      "text/html": [
       "<div>\n",
       "<style scoped>\n",
       "    .dataframe tbody tr th:only-of-type {\n",
       "        vertical-align: middle;\n",
       "    }\n",
       "\n",
       "    .dataframe tbody tr th {\n",
       "        vertical-align: top;\n",
       "    }\n",
       "\n",
       "    .dataframe thead th {\n",
       "        text-align: right;\n",
       "    }\n",
       "</style>\n",
       "<table border=\"1\" class=\"dataframe\">\n",
       "  <thead>\n",
       "    <tr style=\"text-align: right;\">\n",
       "      <th></th>\n",
       "      <th>ACCT_NUMBER</th>\n",
       "      <th>BALANCE</th>\n",
       "      <th>SANCTIONAMOUNT</th>\n",
       "      <th>COLLATERALTYPE</th>\n",
       "      <th>COLLATERALVALUE</th>\n",
       "      <th>CREDITLIMIT</th>\n",
       "      <th>HIGHCREDIT</th>\n",
       "      <th>INSTALLMENTAMOUNT</th>\n",
       "      <th>PASTDUEAMOUNT</th>\n",
       "      <th>REPAYMENTTENURE</th>\n",
       "      <th>Defaulter</th>\n",
       "    </tr>\n",
       "  </thead>\n",
       "  <tbody>\n",
       "    <tr>\n",
       "      <th>ACCT_NUMBER</th>\n",
       "      <td>1.000000</td>\n",
       "      <td>-0.081464</td>\n",
       "      <td>-0.042018</td>\n",
       "      <td>-0.013231</td>\n",
       "      <td>-0.018909</td>\n",
       "      <td>-0.023368</td>\n",
       "      <td>-0.040213</td>\n",
       "      <td>-0.021531</td>\n",
       "      <td>-0.032742</td>\n",
       "      <td>-0.089824</td>\n",
       "      <td>0.613521</td>\n",
       "    </tr>\n",
       "    <tr>\n",
       "      <th>BALANCE</th>\n",
       "      <td>-0.081464</td>\n",
       "      <td>1.000000</td>\n",
       "      <td>0.071259</td>\n",
       "      <td>0.004175</td>\n",
       "      <td>0.150146</td>\n",
       "      <td>0.095599</td>\n",
       "      <td>0.069709</td>\n",
       "      <td>0.078674</td>\n",
       "      <td>0.308737</td>\n",
       "      <td>0.466363</td>\n",
       "      <td>-0.116634</td>\n",
       "    </tr>\n",
       "    <tr>\n",
       "      <th>SANCTIONAMOUNT</th>\n",
       "      <td>-0.042018</td>\n",
       "      <td>0.071259</td>\n",
       "      <td>1.000000</td>\n",
       "      <td>-0.007999</td>\n",
       "      <td>0.016419</td>\n",
       "      <td>0.005585</td>\n",
       "      <td>0.999959</td>\n",
       "      <td>0.010730</td>\n",
       "      <td>0.020909</td>\n",
       "      <td>0.051753</td>\n",
       "      <td>-0.027720</td>\n",
       "    </tr>\n",
       "    <tr>\n",
       "      <th>COLLATERALTYPE</th>\n",
       "      <td>-0.013231</td>\n",
       "      <td>0.004175</td>\n",
       "      <td>-0.007999</td>\n",
       "      <td>1.000000</td>\n",
       "      <td>-0.001161</td>\n",
       "      <td>-0.006673</td>\n",
       "      <td>-0.008602</td>\n",
       "      <td>0.016588</td>\n",
       "      <td>-0.008049</td>\n",
       "      <td>-0.019693</td>\n",
       "      <td>-0.018452</td>\n",
       "    </tr>\n",
       "    <tr>\n",
       "      <th>COLLATERALVALUE</th>\n",
       "      <td>-0.018909</td>\n",
       "      <td>0.150146</td>\n",
       "      <td>0.016419</td>\n",
       "      <td>-0.001161</td>\n",
       "      <td>1.000000</td>\n",
       "      <td>0.007195</td>\n",
       "      <td>0.016079</td>\n",
       "      <td>0.022687</td>\n",
       "      <td>0.186733</td>\n",
       "      <td>0.160388</td>\n",
       "      <td>-0.026849</td>\n",
       "    </tr>\n",
       "    <tr>\n",
       "      <th>CREDITLIMIT</th>\n",
       "      <td>-0.023368</td>\n",
       "      <td>0.095599</td>\n",
       "      <td>0.005585</td>\n",
       "      <td>-0.006673</td>\n",
       "      <td>0.007195</td>\n",
       "      <td>1.000000</td>\n",
       "      <td>0.005297</td>\n",
       "      <td>0.005736</td>\n",
       "      <td>-0.002585</td>\n",
       "      <td>0.099302</td>\n",
       "      <td>-0.023423</td>\n",
       "    </tr>\n",
       "    <tr>\n",
       "      <th>HIGHCREDIT</th>\n",
       "      <td>-0.040213</td>\n",
       "      <td>0.069709</td>\n",
       "      <td>0.999959</td>\n",
       "      <td>-0.008602</td>\n",
       "      <td>0.016079</td>\n",
       "      <td>0.005297</td>\n",
       "      <td>1.000000</td>\n",
       "      <td>0.010406</td>\n",
       "      <td>0.020321</td>\n",
       "      <td>0.050216</td>\n",
       "      <td>-0.025247</td>\n",
       "    </tr>\n",
       "    <tr>\n",
       "      <th>INSTALLMENTAMOUNT</th>\n",
       "      <td>-0.021531</td>\n",
       "      <td>0.078674</td>\n",
       "      <td>0.010730</td>\n",
       "      <td>0.016588</td>\n",
       "      <td>0.022687</td>\n",
       "      <td>0.005736</td>\n",
       "      <td>0.010406</td>\n",
       "      <td>1.000000</td>\n",
       "      <td>0.020643</td>\n",
       "      <td>0.044183</td>\n",
       "      <td>-0.018192</td>\n",
       "    </tr>\n",
       "    <tr>\n",
       "      <th>PASTDUEAMOUNT</th>\n",
       "      <td>-0.032742</td>\n",
       "      <td>0.308737</td>\n",
       "      <td>0.020909</td>\n",
       "      <td>-0.008049</td>\n",
       "      <td>0.186733</td>\n",
       "      <td>-0.002585</td>\n",
       "      <td>0.020321</td>\n",
       "      <td>0.020643</td>\n",
       "      <td>1.000000</td>\n",
       "      <td>0.075439</td>\n",
       "      <td>-0.022608</td>\n",
       "    </tr>\n",
       "    <tr>\n",
       "      <th>REPAYMENTTENURE</th>\n",
       "      <td>-0.089824</td>\n",
       "      <td>0.466363</td>\n",
       "      <td>0.051753</td>\n",
       "      <td>-0.019693</td>\n",
       "      <td>0.160388</td>\n",
       "      <td>0.099302</td>\n",
       "      <td>0.050216</td>\n",
       "      <td>0.044183</td>\n",
       "      <td>0.075439</td>\n",
       "      <td>1.000000</td>\n",
       "      <td>-0.121461</td>\n",
       "    </tr>\n",
       "    <tr>\n",
       "      <th>Defaulter</th>\n",
       "      <td>0.613521</td>\n",
       "      <td>-0.116634</td>\n",
       "      <td>-0.027720</td>\n",
       "      <td>-0.018452</td>\n",
       "      <td>-0.026849</td>\n",
       "      <td>-0.023423</td>\n",
       "      <td>-0.025247</td>\n",
       "      <td>-0.018192</td>\n",
       "      <td>-0.022608</td>\n",
       "      <td>-0.121461</td>\n",
       "      <td>1.000000</td>\n",
       "    </tr>\n",
       "  </tbody>\n",
       "</table>\n",
       "</div>"
      ],
      "text/plain": [
       "                   ACCT_NUMBER   BALANCE  SANCTIONAMOUNT  COLLATERALTYPE  \\\n",
       "ACCT_NUMBER           1.000000 -0.081464       -0.042018       -0.013231   \n",
       "BALANCE              -0.081464  1.000000        0.071259        0.004175   \n",
       "SANCTIONAMOUNT       -0.042018  0.071259        1.000000       -0.007999   \n",
       "COLLATERALTYPE       -0.013231  0.004175       -0.007999        1.000000   \n",
       "COLLATERALVALUE      -0.018909  0.150146        0.016419       -0.001161   \n",
       "CREDITLIMIT          -0.023368  0.095599        0.005585       -0.006673   \n",
       "HIGHCREDIT           -0.040213  0.069709        0.999959       -0.008602   \n",
       "INSTALLMENTAMOUNT    -0.021531  0.078674        0.010730        0.016588   \n",
       "PASTDUEAMOUNT        -0.032742  0.308737        0.020909       -0.008049   \n",
       "REPAYMENTTENURE      -0.089824  0.466363        0.051753       -0.019693   \n",
       "Defaulter             0.613521 -0.116634       -0.027720       -0.018452   \n",
       "\n",
       "                   COLLATERALVALUE  CREDITLIMIT  HIGHCREDIT  \\\n",
       "ACCT_NUMBER              -0.018909    -0.023368   -0.040213   \n",
       "BALANCE                   0.150146     0.095599    0.069709   \n",
       "SANCTIONAMOUNT            0.016419     0.005585    0.999959   \n",
       "COLLATERALTYPE           -0.001161    -0.006673   -0.008602   \n",
       "COLLATERALVALUE           1.000000     0.007195    0.016079   \n",
       "CREDITLIMIT               0.007195     1.000000    0.005297   \n",
       "HIGHCREDIT                0.016079     0.005297    1.000000   \n",
       "INSTALLMENTAMOUNT         0.022687     0.005736    0.010406   \n",
       "PASTDUEAMOUNT             0.186733    -0.002585    0.020321   \n",
       "REPAYMENTTENURE           0.160388     0.099302    0.050216   \n",
       "Defaulter                -0.026849    -0.023423   -0.025247   \n",
       "\n",
       "                   INSTALLMENTAMOUNT  PASTDUEAMOUNT  REPAYMENTTENURE  \\\n",
       "ACCT_NUMBER                -0.021531      -0.032742        -0.089824   \n",
       "BALANCE                     0.078674       0.308737         0.466363   \n",
       "SANCTIONAMOUNT              0.010730       0.020909         0.051753   \n",
       "COLLATERALTYPE              0.016588      -0.008049        -0.019693   \n",
       "COLLATERALVALUE             0.022687       0.186733         0.160388   \n",
       "CREDITLIMIT                 0.005736      -0.002585         0.099302   \n",
       "HIGHCREDIT                  0.010406       0.020321         0.050216   \n",
       "INSTALLMENTAMOUNT           1.000000       0.020643         0.044183   \n",
       "PASTDUEAMOUNT               0.020643       1.000000         0.075439   \n",
       "REPAYMENTTENURE             0.044183       0.075439         1.000000   \n",
       "Defaulter                  -0.018192      -0.022608        -0.121461   \n",
       "\n",
       "                   Defaulter  \n",
       "ACCT_NUMBER         0.613521  \n",
       "BALANCE            -0.116634  \n",
       "SANCTIONAMOUNT     -0.027720  \n",
       "COLLATERALTYPE     -0.018452  \n",
       "COLLATERALVALUE    -0.026849  \n",
       "CREDITLIMIT        -0.023423  \n",
       "HIGHCREDIT         -0.025247  \n",
       "INSTALLMENTAMOUNT  -0.018192  \n",
       "PASTDUEAMOUNT      -0.022608  \n",
       "REPAYMENTTENURE    -0.121461  \n",
       "Defaulter           1.000000  "
      ]
     },
     "execution_count": 25,
     "metadata": {},
     "output_type": "execute_result"
    }
   ],
   "source": [
    "#Check the correlation\n",
    "df.corr().T"
   ]
  },
  {
   "cell_type": "markdown",
   "id": "70641591",
   "metadata": {},
   "source": [
    "# <font color=\tGreen>Multivariate Analysis<font>"
   ]
  },
  {
   "cell_type": "markdown",
   "id": "8be96870",
   "metadata": {},
   "source": [
    "## Heatmap of correlation"
   ]
  },
  {
   "cell_type": "code",
   "execution_count": 26,
   "id": "a79cd602",
   "metadata": {},
   "outputs": [
    {
     "data": {
      "text/plain": [
       "(array([ 0.5,  1.5,  2.5,  3.5,  4.5,  5.5,  6.5,  7.5,  8.5,  9.5, 10.5]),\n",
       " [Text(0.5, 0, 'ACCT_NUMBER'),\n",
       "  Text(1.5, 0, 'BALANCE'),\n",
       "  Text(2.5, 0, 'SANCTIONAMOUNT'),\n",
       "  Text(3.5, 0, 'COLLATERALTYPE'),\n",
       "  Text(4.5, 0, 'COLLATERALVALUE'),\n",
       "  Text(5.5, 0, 'CREDITLIMIT'),\n",
       "  Text(6.5, 0, 'HIGHCREDIT'),\n",
       "  Text(7.5, 0, 'INSTALLMENTAMOUNT'),\n",
       "  Text(8.5, 0, 'PASTDUEAMOUNT'),\n",
       "  Text(9.5, 0, 'REPAYMENTTENURE'),\n",
       "  Text(10.5, 0, 'Defaulter')])"
      ]
     },
     "execution_count": 26,
     "metadata": {},
     "output_type": "execute_result"
    },
    {
     "data": {
      "image/png": "[encoded data removed]",
      "text/plain": [
       "<Figure size 1440x1080 with 2 Axes>"
      ]
     },
     "metadata": {
      "needs_background": "light"
     },
     "output_type": "display_data"
    }
   ],
   "source": [
    "plt.figure(figsize = (20,15))\n",
    "sns.heatmap(df.corr(),annot = True)\n",
    "plt.xticks(rotation = 45)"
   ]
  },
  {
   "cell_type": "code",
   "execution_count": 27,
   "id": "6e221b79",
   "metadata": {},
   "outputs": [
    {
     "data": {
      "text/plain": [
       "Index(['ACCT_NUMBER', 'BALANCE', 'SANCTIONAMOUNT', 'COLLATERALTYPE',\n",
       "       'COLLATERALVALUE', 'CREDITLIMIT', 'DATECLOSED', 'DATEOPENED',\n",
       "       'HIGHCREDIT', 'INSTALLMENTAMOUNT', 'PASTDUEAMOUNT', 'REPAYMENTTENURE',\n",
       "       'TERMFREQUENCY', 'SELF_TRADE', 'SECTOR', 'DOB', 'Defaulter'],\n",
       "      dtype='object')"
      ]
     },
     "execution_count": 27,
     "metadata": {},
     "output_type": "execute_result"
    }
   ],
   "source": [
    "df.columns"
   ]
  },
  {
   "cell_type": "markdown",
   "id": "ef291989",
   "metadata": {},
   "source": [
    "# <font color=Green>Questions<font>"
   ]
  },
  {
   "cell_type": "markdown",
   "id": "8f7eab36",
   "metadata": {},
   "source": [
    "## How many accounts are defaulters"
   ]
  },
  {
   "cell_type": "code",
   "execution_count": 28,
   "id": "8d58f6c7",
   "metadata": {},
   "outputs": [
    {
     "data": {
      "text/plain": [
       "0    9010\n",
       "1    1541\n",
       "Name: Defaulter, dtype: int64"
      ]
     },
     "execution_count": 28,
     "metadata": {},
     "output_type": "execute_result"
    }
   ],
   "source": [
    "df[\"Defaulter\"].value_counts()"
   ]
  },
  {
   "cell_type": "code",
   "execution_count": 29,
   "id": "20ff7939",
   "metadata": {},
   "outputs": [
    {
     "data": {
      "text/plain": [
       "<AxesSubplot:xlabel='Defaulter', ylabel='count'>"
      ]
     },
     "execution_count": 29,
     "metadata": {},
     "output_type": "execute_result"
    },
    {
     "data": {
      "image/png": "[encoded data removed]",
      "text/plain": [
       "<Figure size 1080x504 with 1 Axes>"
      ]
     },
     "metadata": {
      "needs_background": "light"
     },
     "output_type": "display_data"
    }
   ],
   "source": [
    "plt.figure(figsize = (15,7))\n",
    "sns.countplot(df['Defaulter'],palette= \"flare\")"
   ]
  },
  {
   "cell_type": "markdown",
   "id": "d8973dc6",
   "metadata": {},
   "source": [
    "Total 1541 account are defaulters"
   ]
  },
  {
   "cell_type": "markdown",
   "id": "8321adae",
   "metadata": {},
   "source": [
    "## List of account numbers that are defaulters"
   ]
  },
  {
   "cell_type": "code",
   "execution_count": 30,
   "id": "af159b6d",
   "metadata": {},
   "outputs": [
    {
     "data": {
      "text/plain": [
       "9075     10099\n",
       "9076     10100\n",
       "9077     10101\n",
       "9078     10102\n",
       "9079     10103\n",
       "         ...  \n",
       "10670    11694\n",
       "10671    11695\n",
       "10672    11696\n",
       "10673    11697\n",
       "10674    11698\n",
       "Name: ACCT_NUMBER, Length: 1541, dtype: int64"
      ]
     },
     "execution_count": 30,
     "metadata": {},
     "output_type": "execute_result"
    }
   ],
   "source": [
    "df[df['Defaulter'] == 1]['ACCT_NUMBER']"
   ]
  },
  {
   "cell_type": "code",
   "execution_count": 31,
   "id": "d17e8782",
   "metadata": {},
   "outputs": [],
   "source": [
    "list_of_def_ACC = list(df[df['Defaulter'] == 1]['ACCT_NUMBER'])"
   ]
  },
  {
   "cell_type": "code",
   "execution_count": 32,
   "id": "093c728a",
   "metadata": {
    "scrolled": false
   },
   "outputs": [
    {
     "data": {
      "text/plain": [
       "[10099, 10100, 10101, 10102, 10103, 10104, 10105, 10106, 10107, 10108]"
      ]
     },
     "execution_count": 32,
     "metadata": {},
     "output_type": "execute_result"
    }
   ],
   "source": [
    "list_of_def_ACC[:10]"
   ]
  },
  {
   "cell_type": "code",
   "execution_count": 33,
   "id": "a2ec4341",
   "metadata": {},
   "outputs": [
    {
     "data": {
      "text/plain": [
       "Index(['ACCT_NUMBER', 'BALANCE', 'SANCTIONAMOUNT', 'COLLATERALTYPE',\n",
       "       'COLLATERALVALUE', 'CREDITLIMIT', 'DATECLOSED', 'DATEOPENED',\n",
       "       'HIGHCREDIT', 'INSTALLMENTAMOUNT', 'PASTDUEAMOUNT', 'REPAYMENTTENURE',\n",
       "       'TERMFREQUENCY', 'SELF_TRADE', 'SECTOR', 'DOB', 'Defaulter'],\n",
       "      dtype='object')"
      ]
     },
     "execution_count": 33,
     "metadata": {},
     "output_type": "execute_result"
    }
   ],
   "source": [
    "df.columns"
   ]
  },
  {
   "cell_type": "markdown",
   "id": "c39933e4",
   "metadata": {},
   "source": [
    "## What is the balance in defaulter accounts"
   ]
  },
  {
   "cell_type": "code",
   "execution_count": 34,
   "id": "2cac8669",
   "metadata": {},
   "outputs": [
    {
     "data": {
      "text/html": [
       "<div>\n",
       "<style scoped>\n",
       "    .dataframe tbody tr th:only-of-type {\n",
       "        vertical-align: middle;\n",
       "    }\n",
       "\n",
       "    .dataframe tbody tr th {\n",
       "        vertical-align: top;\n",
       "    }\n",
       "\n",
       "    .dataframe thead th {\n",
       "        text-align: right;\n",
       "    }\n",
       "</style>\n",
       "<table border=\"1\" class=\"dataframe\">\n",
       "  <thead>\n",
       "    <tr style=\"text-align: right;\">\n",
       "      <th></th>\n",
       "      <th>ACCT_NUMBER</th>\n",
       "      <th>BALANCE</th>\n",
       "    </tr>\n",
       "  </thead>\n",
       "  <tbody>\n",
       "    <tr>\n",
       "      <th>10379</th>\n",
       "      <td>11403</td>\n",
       "      <td>550350.0</td>\n",
       "    </tr>\n",
       "    <tr>\n",
       "      <th>10230</th>\n",
       "      <td>11254</td>\n",
       "      <td>500377.0</td>\n",
       "    </tr>\n",
       "    <tr>\n",
       "      <th>9350</th>\n",
       "      <td>10374</td>\n",
       "      <td>500028.0</td>\n",
       "    </tr>\n",
       "    <tr>\n",
       "      <th>9349</th>\n",
       "      <td>10373</td>\n",
       "      <td>465533.0</td>\n",
       "    </tr>\n",
       "    <tr>\n",
       "      <th>10076</th>\n",
       "      <td>11100</td>\n",
       "      <td>342891.0</td>\n",
       "    </tr>\n",
       "    <tr>\n",
       "      <th>...</th>\n",
       "      <td>...</td>\n",
       "      <td>...</td>\n",
       "    </tr>\n",
       "    <tr>\n",
       "      <th>9640</th>\n",
       "      <td>10664</td>\n",
       "      <td>-5.0</td>\n",
       "    </tr>\n",
       "    <tr>\n",
       "      <th>9436</th>\n",
       "      <td>10460</td>\n",
       "      <td>-6.0</td>\n",
       "    </tr>\n",
       "    <tr>\n",
       "      <th>9316</th>\n",
       "      <td>10340</td>\n",
       "      <td>-7.0</td>\n",
       "    </tr>\n",
       "    <tr>\n",
       "      <th>10435</th>\n",
       "      <td>11459</td>\n",
       "      <td>-16.0</td>\n",
       "    </tr>\n",
       "    <tr>\n",
       "      <th>10330</th>\n",
       "      <td>11354</td>\n",
       "      <td>-17.0</td>\n",
       "    </tr>\n",
       "  </tbody>\n",
       "</table>\n",
       "<p>1541 rows × 2 columns</p>\n",
       "</div>"
      ],
      "text/plain": [
       "       ACCT_NUMBER   BALANCE\n",
       "10379        11403  550350.0\n",
       "10230        11254  500377.0\n",
       "9350         10374  500028.0\n",
       "9349         10373  465533.0\n",
       "10076        11100  342891.0\n",
       "...            ...       ...\n",
       "9640         10664      -5.0\n",
       "9436         10460      -6.0\n",
       "9316         10340      -7.0\n",
       "10435        11459     -16.0\n",
       "10330        11354     -17.0\n",
       "\n",
       "[1541 rows x 2 columns]"
      ]
     },
     "execution_count": 34,
     "metadata": {},
     "output_type": "execute_result"
    }
   ],
   "source": [
    "df[df['Defaulter'] == 1][['ACCT_NUMBER','BALANCE']].sort_values(by = 'BALANCE',ascending = False)"
   ]
  },
  {
   "cell_type": "markdown",
   "id": "de2a47eb",
   "metadata": {},
   "source": [
    "## What is the age of defaulter accounts"
   ]
  },
  {
   "cell_type": "code",
   "execution_count": 35,
   "id": "17a014dc",
   "metadata": {},
   "outputs": [
    {
     "data": {
      "text/html": [
       "<div>\n",
       "<style scoped>\n",
       "    .dataframe tbody tr th:only-of-type {\n",
       "        vertical-align: middle;\n",
       "    }\n",
       "\n",
       "    .dataframe tbody tr th {\n",
       "        vertical-align: top;\n",
       "    }\n",
       "\n",
       "    .dataframe thead th {\n",
       "        text-align: right;\n",
       "    }\n",
       "</style>\n",
       "<table border=\"1\" class=\"dataframe\">\n",
       "  <thead>\n",
       "    <tr style=\"text-align: right;\">\n",
       "      <th></th>\n",
       "      <th>ACCT_NUMBER</th>\n",
       "      <th>BALANCE</th>\n",
       "      <th>DOB</th>\n",
       "    </tr>\n",
       "  </thead>\n",
       "  <tbody>\n",
       "    <tr>\n",
       "      <th>9075</th>\n",
       "      <td>10099</td>\n",
       "      <td>0.0</td>\n",
       "      <td>1984-01-02</td>\n",
       "    </tr>\n",
       "    <tr>\n",
       "      <th>9076</th>\n",
       "      <td>10100</td>\n",
       "      <td>0.0</td>\n",
       "      <td>1984-01-02</td>\n",
       "    </tr>\n",
       "    <tr>\n",
       "      <th>9077</th>\n",
       "      <td>10101</td>\n",
       "      <td>0.0</td>\n",
       "      <td>1984-01-02</td>\n",
       "    </tr>\n",
       "    <tr>\n",
       "      <th>9078</th>\n",
       "      <td>10102</td>\n",
       "      <td>36.0</td>\n",
       "      <td>1984-01-02</td>\n",
       "    </tr>\n",
       "    <tr>\n",
       "      <th>9079</th>\n",
       "      <td>10103</td>\n",
       "      <td>0.0</td>\n",
       "      <td>1984-01-02</td>\n",
       "    </tr>\n",
       "    <tr>\n",
       "      <th>...</th>\n",
       "      <td>...</td>\n",
       "      <td>...</td>\n",
       "      <td>...</td>\n",
       "    </tr>\n",
       "    <tr>\n",
       "      <th>10670</th>\n",
       "      <td>11694</td>\n",
       "      <td>4810.0</td>\n",
       "      <td>1989-01-01</td>\n",
       "    </tr>\n",
       "    <tr>\n",
       "      <th>10671</th>\n",
       "      <td>11695</td>\n",
       "      <td>43346.0</td>\n",
       "      <td>1989-01-01</td>\n",
       "    </tr>\n",
       "    <tr>\n",
       "      <th>10672</th>\n",
       "      <td>11696</td>\n",
       "      <td>16524.0</td>\n",
       "      <td>1989-01-01</td>\n",
       "    </tr>\n",
       "    <tr>\n",
       "      <th>10673</th>\n",
       "      <td>11697</td>\n",
       "      <td>1648.0</td>\n",
       "      <td>1977-01-01</td>\n",
       "    </tr>\n",
       "    <tr>\n",
       "      <th>10674</th>\n",
       "      <td>11698</td>\n",
       "      <td>16712.0</td>\n",
       "      <td>1977-01-01</td>\n",
       "    </tr>\n",
       "  </tbody>\n",
       "</table>\n",
       "<p>1541 rows × 3 columns</p>\n",
       "</div>"
      ],
      "text/plain": [
       "       ACCT_NUMBER  BALANCE        DOB\n",
       "9075         10099      0.0 1984-01-02\n",
       "9076         10100      0.0 1984-01-02\n",
       "9077         10101      0.0 1984-01-02\n",
       "9078         10102     36.0 1984-01-02\n",
       "9079         10103      0.0 1984-01-02\n",
       "...            ...      ...        ...\n",
       "10670        11694   4810.0 1989-01-01\n",
       "10671        11695  43346.0 1989-01-01\n",
       "10672        11696  16524.0 1989-01-01\n",
       "10673        11697   1648.0 1977-01-01\n",
       "10674        11698  16712.0 1977-01-01\n",
       "\n",
       "[1541 rows x 3 columns]"
      ]
     },
     "execution_count": 35,
     "metadata": {},
     "output_type": "execute_result"
    }
   ],
   "source": [
    "df[df['Defaulter'] == 1][['ACCT_NUMBER','BALANCE','DOB']]"
   ]
  },
  {
   "cell_type": "markdown",
   "id": "6f19cb9b",
   "metadata": {},
   "source": [
    "## Check the outliers"
   ]
  },
  {
   "cell_type": "code",
   "execution_count": 36,
   "id": "097da0d6",
   "metadata": {},
   "outputs": [
    {
     "data": {
      "image/png": "[encoded data removed]",
      "text/plain": [
       "<Figure size 1440x1440 with 11 Axes>"
      ]
     },
     "metadata": {
      "needs_background": "light"
     },
     "output_type": "display_data"
    }
   ],
   "source": [
    "df1 = df.copy()\n",
    "plt.figure(figsize = (20,20))\n",
    "plt.suptitle('BoxPlot of all features', fontsize = 40, fontweight = \"bold\", alpha = 0.8, y = 1.)\n",
    "columns_use = ['ACCT_NUMBER', 'BALANCE', 'SANCTIONAMOUNT', 'COLLATERALTYPE',\n",
    "       'COLLATERALVALUE', 'CREDITLIMIT',\n",
    "       'HIGHCREDIT', 'INSTALLMENTAMOUNT', 'PASTDUEAMOUNT', 'REPAYMENTTENURE', 'Defaulter']\n",
    "\n",
    "for i in range(0, len(columns_use)):\n",
    "    plt.subplot(6,3,i+1)\n",
    "    sns.boxplot(x= df1[columns_use[i]], data = df1)\n",
    "    plt.xlabel(columns_use[i],fontsize = 20)\n",
    "    #plt.ylabel(\"Classes\")\n",
    "    #plt.title(\"{} .format(data.columns[i]))\n",
    "    plt.tight_layout()"
   ]
  },
  {
   "cell_type": "markdown",
   "id": "fcb5469d",
   "metadata": {},
   "source": [
    "## Handling the outliers"
   ]
  },
  {
   "cell_type": "code",
   "execution_count": 37,
   "id": "7ab8661f",
   "metadata": {},
   "outputs": [],
   "source": [
    "def outlier_handling_function(data,column):\n",
    "    IQR = data[column].quantile(0.75) - data[column].quantile(0.25)\n",
    "    lower_fence = data[column].quantile(0.25) - (1.5 * IQR)\n",
    "    higher_fence = data[column].quantile(0.75) + (1.5 * IQR)\n",
    "    print(column, \"---\", \"IQR --->\",IQR)\n",
    "    print(\"Lower Fence:\",lower_fence)\n",
    "    print(\"Higher Fence:\", higher_fence)\n",
    "    print(\"______________________________________________\")\n",
    "    data.loc[data[column] <=lower_fence, column] = lower_fence\n",
    "    data.loc[data[column] >=higher_fence, column] = higher_fence"
   ]
  },
  {
   "cell_type": "code",
   "execution_count": 38,
   "id": "ff4f64c5",
   "metadata": {
    "scrolled": false
   },
   "outputs": [
    {
     "name": "stdout",
     "output_type": "stream",
     "text": [
      "ACCT_NUMBER --- IQR ---> 5323.0\n",
      "Lower Fence: -4312.0\n",
      "Higher Fence: 16980.0\n",
      "______________________________________________\n",
      "BALANCE --- IQR ---> 34375.0\n",
      "Lower Fence: -51562.5\n",
      "Higher Fence: 85937.5\n",
      "______________________________________________\n",
      "SANCTIONAMOUNT --- IQR ---> 54000.0\n",
      "Lower Fence: -65000.0\n",
      "Higher Fence: 151000.0\n",
      "______________________________________________\n",
      "COLLATERALTYPE --- IQR ---> 0.0\n",
      "Lower Fence: 1.0\n",
      "Higher Fence: 1.0\n",
      "______________________________________________\n",
      "COLLATERALVALUE --- IQR ---> 0.0\n",
      "Lower Fence: 0.0\n",
      "Higher Fence: 0.0\n",
      "______________________________________________\n",
      "CREDITLIMIT --- IQR ---> 0.0\n",
      "Lower Fence: 0.0\n",
      "Higher Fence: 0.0\n",
      "______________________________________________\n",
      "DATECLOSED --- IQR ---> 386 days 12:00:00\n",
      "Lower Fence: 2018-07-13 18:00:00\n",
      "Higher Fence: 2022-10-06 18:00:00\n",
      "______________________________________________\n",
      "DATEOPENED --- IQR ---> 1251 days 00:00:00\n",
      "Lower Fence: 2012-06-29 00:00:00\n",
      "Higher Fence: 2026-03-12 00:00:00\n",
      "______________________________________________\n",
      "HIGHCREDIT --- IQR ---> 21709.0\n",
      "Lower Fence: 8340.5\n",
      "Higher Fence: 95176.5\n",
      "______________________________________________\n",
      "INSTALLMENTAMOUNT --- IQR ---> 1830.0\n",
      "Lower Fence: -2745.0\n",
      "Higher Fence: 4575.0\n",
      "______________________________________________\n",
      "PASTDUEAMOUNT --- IQR ---> 0.0\n",
      "Lower Fence: 0.0\n",
      "Higher Fence: 0.0\n",
      "______________________________________________\n",
      "REPAYMENTTENURE --- IQR ---> 0.0\n",
      "Lower Fence: 12.0\n",
      "Higher Fence: 12.0\n",
      "______________________________________________\n",
      "Everything ok\n"
     ]
    }
   ],
   "source": [
    "try:\n",
    "    for columns in df1:\n",
    "        outlier_handling_function(df1,columns)\n",
    "        \n",
    "except TypeError:\n",
    "    print(\"Everything ok\")"
   ]
  },
  {
   "cell_type": "markdown",
   "id": "b0826e98",
   "metadata": {},
   "source": [
    "## Before and After Handling of outliers"
   ]
  },
  {
   "cell_type": "code",
   "execution_count": 39,
   "id": "75cdcd9f",
   "metadata": {
    "scrolled": false
   },
   "outputs": [
    {
     "data": {
      "image/png": "[encoded data removed]",
      "text/plain": [
       "<Figure size 1080x576 with 2 Axes>"
      ]
     },
     "metadata": {
      "needs_background": "light"
     },
     "output_type": "display_data"
    },
    {
     "data": {
      "image/png": "[encoded data removed]",
      "text/plain": [
       "<Figure size 1080x576 with 2 Axes>"
      ]
     },
     "metadata": {
      "needs_background": "light"
     },
     "output_type": "display_data"
    },
    {
     "data": {
      "image/png": "[encoded data removed]",
      "text/plain": [
       "<Figure size 1080x576 with 2 Axes>"
      ]
     },
     "metadata": {
      "needs_background": "light"
     },
     "output_type": "display_data"
    },
    {
     "data": {
      "image/png": "[encoded data removed]",
      "text/plain": [
       "<Figure size 1080x576 with 2 Axes>"
      ]
     },
     "metadata": {
      "needs_background": "light"
     },
     "output_type": "display_data"
    },
    {
     "data": {
      "image/png": "[encoded data removed]",
      "text/plain": [
       "<Figure size 1080x576 with 2 Axes>"
      ]
     },
     "metadata": {
      "needs_background": "light"
     },
     "output_type": "display_data"
    },
    {
     "data": {
      "image/png": "[encoded data removed]",
      "text/plain": [
       "<Figure size 1080x576 with 2 Axes>"
      ]
     },
     "metadata": {
      "needs_background": "light"
     },
     "output_type": "display_data"
    },
    {
     "data": {
      "image/png": "[encoded data removed]",
      "text/plain": [
       "<Figure size 1080x576 with 2 Axes>"
      ]
     },
     "metadata": {
      "needs_background": "light"
     },
     "output_type": "display_data"
    },
    {
     "data": {
      "image/png": "[encoded data removed]",
      "text/plain": [
       "<Figure size 1080x576 with 2 Axes>"
      ]
     },
     "metadata": {
      "needs_background": "light"
     },
     "output_type": "display_data"
    },
    {
     "data": {
      "image/png": "[encoded data removed]",
      "text/plain": [
       "<Figure size 1080x576 with 2 Axes>"
      ]
     },
     "metadata": {
      "needs_background": "light"
     },
     "output_type": "display_data"
    },
    {
     "data": {
      "image/png": "[encoded data removed]",
      "text/plain": [
       "<Figure size 1080x576 with 2 Axes>"
      ]
     },
     "metadata": {
      "needs_background": "light"
     },
     "output_type": "display_data"
    },
    {
     "data": {
      "image/png": "[encoded data removed]",
      "text/plain": [
       "<Figure size 1080x576 with 2 Axes>"
      ]
     },
     "metadata": {
      "needs_background": "light"
     },
     "output_type": "display_data"
    }
   ],
   "source": [
    "for i in range(0, len(columns_use)):\n",
    "    plt.figure(figsize = (15,8))\n",
    "    plt.subplot(121)\n",
    "    sns.boxplot(x= df[columns_use[i]], data = df)\n",
    "    plt.xlabel(columns_use[i],fontsize = 20)\n",
    "    #plt.ylabel(\"Classes\")\n",
    "    #plt.title(\"{} .format(data.columns[i]))\n",
    "    plt.title(\"Ouliers Before\")\n",
    "    plt.tight_layout()\n",
    "\n",
    "    plt.subplot(122)\n",
    "    sns.boxplot(x= df1[columns_use[i]], data = df1)\n",
    "    plt.xlabel(columns_use[i],fontsize = 20)\n",
    "    #plt.ylabel(\"Classes\")\n",
    "    #plt.title(\"{} .format(data.columns[i]))\n",
    "    plt.title(\"Ouliers After Handling\")\n",
    "    plt.tight_layout()\n",
    "    plt.show()"
   ]
  },
  {
   "cell_type": "markdown",
   "id": "d1377e54",
   "metadata": {},
   "source": [
    "But we will keep the outliers, after checking the frequency we will decide"
   ]
  },
  {
   "cell_type": "markdown",
   "id": "9cd1b294",
   "metadata": {},
   "source": [
    "# Creating Independent and Dependent Features"
   ]
  },
  {
   "cell_type": "code",
   "execution_count": 40,
   "id": "5877f389",
   "metadata": {},
   "outputs": [
    {
     "data": {
      "text/plain": [
       "Index(['ACCT_NUMBER', 'BALANCE', 'SANCTIONAMOUNT', 'COLLATERALTYPE',\n",
       "       'COLLATERALVALUE', 'CREDITLIMIT', 'DATECLOSED', 'DATEOPENED',\n",
       "       'HIGHCREDIT', 'INSTALLMENTAMOUNT', 'PASTDUEAMOUNT', 'REPAYMENTTENURE',\n",
       "       'TERMFREQUENCY', 'SELF_TRADE', 'SECTOR', 'DOB', 'Defaulter'],\n",
       "      dtype='object')"
      ]
     },
     "execution_count": 40,
     "metadata": {},
     "output_type": "execute_result"
    }
   ],
   "source": [
    "df.columns"
   ]
  },
  {
   "cell_type": "code",
   "execution_count": 41,
   "id": "7721c9f6",
   "metadata": {},
   "outputs": [],
   "source": [
    "X = df.drop(columns = ['Defaulter','DATECLOSED','DATEOPENED','DOB','TERMFREQUENCY','SELF_TRADE','SECTOR'])\n",
    "y = df['Defaulter']"
   ]
  },
  {
   "cell_type": "markdown",
   "id": "03fefb30",
   "metadata": {},
   "source": [
    "# List of Top 10 features with their importance value"
   ]
  },
  {
   "cell_type": "code",
   "execution_count": 42,
   "id": "18cc7582",
   "metadata": {},
   "outputs": [],
   "source": [
    "df4 = pd.read_csv(r\"C:\\Users\\M G ENGINEERING\\preprocessed data.csv\")\n",
    "X1 = df4.drop(columns = ['Defaulter','DATECLOSED','DATEOPENED','DOB','TERMFREQUENCY','SELF_TRADE','SECTOR','BALANCE'])"
   ]
  },
  {
   "cell_type": "code",
   "execution_count": 43,
   "id": "d47a86c2",
   "metadata": {},
   "outputs": [
    {
     "data": {
      "text/plain": [
       "array([7.07277758e+06, 5.92987586e+06, 1.72710560e+07, 0.00000000e+00,\n",
       "                  nan,            nan, 3.97829879e+05, 1.39846473e+03,\n",
       "                  nan, 0.00000000e+00])"
      ]
     },
     "execution_count": 43,
     "metadata": {},
     "output_type": "execute_result"
    }
   ],
   "source": [
    "ordered_rank_features=SelectKBest(score_func=chi2,k=10)\n",
    "ordered_rank_features.fit(X1,y)\n",
    "ordered_rank_features.fit(X1,y)\n",
    "ordered_rank_features.scores_"
   ]
  },
  {
   "cell_type": "code",
   "execution_count": 73,
   "id": "9fadf5f7",
   "metadata": {},
   "outputs": [
    {
     "data": {
      "text/html": [
       "<div>\n",
       "<style scoped>\n",
       "    .dataframe tbody tr th:only-of-type {\n",
       "        vertical-align: middle;\n",
       "    }\n",
       "\n",
       "    .dataframe tbody tr th {\n",
       "        vertical-align: top;\n",
       "    }\n",
       "\n",
       "    .dataframe thead th {\n",
       "        text-align: right;\n",
       "    }\n",
       "</style>\n",
       "<table border=\"1\" class=\"dataframe\">\n",
       "  <thead>\n",
       "    <tr style=\"text-align: right;\">\n",
       "      <th></th>\n",
       "      <th>features</th>\n",
       "      <th>score</th>\n",
       "    </tr>\n",
       "  </thead>\n",
       "  <tbody>\n",
       "    <tr>\n",
       "      <th>2</th>\n",
       "      <td>SANCTIONAMOUNT</td>\n",
       "      <td>17271055.98</td>\n",
       "    </tr>\n",
       "    <tr>\n",
       "      <th>0</th>\n",
       "      <td>ACCT_NUMBER</td>\n",
       "      <td>7072777.58</td>\n",
       "    </tr>\n",
       "    <tr>\n",
       "      <th>1</th>\n",
       "      <td>BALANCE</td>\n",
       "      <td>5929875.86</td>\n",
       "    </tr>\n",
       "    <tr>\n",
       "      <th>6</th>\n",
       "      <td>HIGHCREDIT</td>\n",
       "      <td>397829.88</td>\n",
       "    </tr>\n",
       "    <tr>\n",
       "      <th>7</th>\n",
       "      <td>INSTALLMENTAMOUNT</td>\n",
       "      <td>1398.46</td>\n",
       "    </tr>\n",
       "    <tr>\n",
       "      <th>3</th>\n",
       "      <td>COLLATERALTYPE</td>\n",
       "      <td>0.00</td>\n",
       "    </tr>\n",
       "    <tr>\n",
       "      <th>9</th>\n",
       "      <td>REPAYMENTTENURE</td>\n",
       "      <td>0.00</td>\n",
       "    </tr>\n",
       "    <tr>\n",
       "      <th>4</th>\n",
       "      <td>COLLATERALVALUE</td>\n",
       "      <td>NaN</td>\n",
       "    </tr>\n",
       "    <tr>\n",
       "      <th>5</th>\n",
       "      <td>CREDITLIMIT</td>\n",
       "      <td>NaN</td>\n",
       "    </tr>\n",
       "    <tr>\n",
       "      <th>8</th>\n",
       "      <td>PASTDUEAMOUNT</td>\n",
       "      <td>NaN</td>\n",
       "    </tr>\n",
       "  </tbody>\n",
       "</table>\n",
       "</div>"
      ],
      "text/plain": [
       "            features        score\n",
       "2     SANCTIONAMOUNT  17271055.98\n",
       "0        ACCT_NUMBER   7072777.58\n",
       "1            BALANCE   5929875.86\n",
       "6         HIGHCREDIT    397829.88\n",
       "7  INSTALLMENTAMOUNT      1398.46\n",
       "3     COLLATERALTYPE         0.00\n",
       "9    REPAYMENTTENURE         0.00\n",
       "4    COLLATERALVALUE          NaN\n",
       "5        CREDITLIMIT          NaN\n",
       "8      PASTDUEAMOUNT          NaN"
      ]
     },
     "execution_count": 73,
     "metadata": {},
     "output_type": "execute_result"
    }
   ],
   "source": [
    "df_scores=pd.DataFrame(ordered_rank_features.scores_,columns=[\"Scores\"])\n",
    "dfcolumns=pd.DataFrame(X.columns)\n",
    "features_rank=pd.concat([dfcolumns,df_scores],axis=1)\n",
    "features_rank.columns=[\"features\",\"score\"]\n",
    "round(features_rank.sort_values(by = ['score'],ascending=False),2)"
   ]
  },
  {
   "cell_type": "markdown",
   "id": "96491f08",
   "metadata": {},
   "source": [
    "## Independent feature"
   ]
  },
  {
   "cell_type": "code",
   "execution_count": 45,
   "id": "0c3bc15a",
   "metadata": {
    "scrolled": true
   },
   "outputs": [
    {
     "data": {
      "text/html": [
       "<div>\n",
       "<style scoped>\n",
       "    .dataframe tbody tr th:only-of-type {\n",
       "        vertical-align: middle;\n",
       "    }\n",
       "\n",
       "    .dataframe tbody tr th {\n",
       "        vertical-align: top;\n",
       "    }\n",
       "\n",
       "    .dataframe thead th {\n",
       "        text-align: right;\n",
       "    }\n",
       "</style>\n",
       "<table border=\"1\" class=\"dataframe\">\n",
       "  <thead>\n",
       "    <tr style=\"text-align: right;\">\n",
       "      <th></th>\n",
       "      <th>ACCT_NUMBER</th>\n",
       "      <th>BALANCE</th>\n",
       "      <th>SANCTIONAMOUNT</th>\n",
       "      <th>COLLATERALTYPE</th>\n",
       "      <th>COLLATERALVALUE</th>\n",
       "      <th>CREDITLIMIT</th>\n",
       "      <th>HIGHCREDIT</th>\n",
       "      <th>INSTALLMENTAMOUNT</th>\n",
       "      <th>PASTDUEAMOUNT</th>\n",
       "      <th>REPAYMENTTENURE</th>\n",
       "    </tr>\n",
       "  </thead>\n",
       "  <tbody>\n",
       "    <tr>\n",
       "      <th>0</th>\n",
       "      <td>1024</td>\n",
       "      <td>0.0</td>\n",
       "      <td>50000</td>\n",
       "      <td>1.0</td>\n",
       "      <td>0.0</td>\n",
       "      <td>0.0</td>\n",
       "      <td>50000.0</td>\n",
       "      <td>1195.0</td>\n",
       "      <td>0.0</td>\n",
       "      <td>52.0</td>\n",
       "    </tr>\n",
       "    <tr>\n",
       "      <th>1</th>\n",
       "      <td>1025</td>\n",
       "      <td>71704.0</td>\n",
       "      <td>80000</td>\n",
       "      <td>1.0</td>\n",
       "      <td>0.0</td>\n",
       "      <td>0.0</td>\n",
       "      <td>80000.0</td>\n",
       "      <td>4146.0</td>\n",
       "      <td>0.0</td>\n",
       "      <td>24.0</td>\n",
       "    </tr>\n",
       "    <tr>\n",
       "      <th>2</th>\n",
       "      <td>1026</td>\n",
       "      <td>0.0</td>\n",
       "      <td>15000</td>\n",
       "      <td>1.0</td>\n",
       "      <td>0.0</td>\n",
       "      <td>0.0</td>\n",
       "      <td>50000.0</td>\n",
       "      <td>358.0</td>\n",
       "      <td>0.0</td>\n",
       "      <td>12.0</td>\n",
       "    </tr>\n",
       "    <tr>\n",
       "      <th>3</th>\n",
       "      <td>1027</td>\n",
       "      <td>0.0</td>\n",
       "      <td>20000</td>\n",
       "      <td>1.0</td>\n",
       "      <td>0.0</td>\n",
       "      <td>0.0</td>\n",
       "      <td>50000.0</td>\n",
       "      <td>907.0</td>\n",
       "      <td>0.0</td>\n",
       "      <td>12.0</td>\n",
       "    </tr>\n",
       "    <tr>\n",
       "      <th>4</th>\n",
       "      <td>1028</td>\n",
       "      <td>21795.0</td>\n",
       "      <td>21795</td>\n",
       "      <td>1.0</td>\n",
       "      <td>0.0</td>\n",
       "      <td>0.0</td>\n",
       "      <td>50000.0</td>\n",
       "      <td>604.0</td>\n",
       "      <td>0.0</td>\n",
       "      <td>12.0</td>\n",
       "    </tr>\n",
       "  </tbody>\n",
       "</table>\n",
       "</div>"
      ],
      "text/plain": [
       "   ACCT_NUMBER  BALANCE  SANCTIONAMOUNT  COLLATERALTYPE  COLLATERALVALUE  \\\n",
       "0         1024      0.0           50000             1.0              0.0   \n",
       "1         1025  71704.0           80000             1.0              0.0   \n",
       "2         1026      0.0           15000             1.0              0.0   \n",
       "3         1027      0.0           20000             1.0              0.0   \n",
       "4         1028  21795.0           21795             1.0              0.0   \n",
       "\n",
       "   CREDITLIMIT  HIGHCREDIT  INSTALLMENTAMOUNT  PASTDUEAMOUNT  REPAYMENTTENURE  \n",
       "0          0.0     50000.0             1195.0            0.0             52.0  \n",
       "1          0.0     80000.0             4146.0            0.0             24.0  \n",
       "2          0.0     50000.0              358.0            0.0             12.0  \n",
       "3          0.0     50000.0              907.0            0.0             12.0  \n",
       "4          0.0     50000.0              604.0            0.0             12.0  "
      ]
     },
     "execution_count": 45,
     "metadata": {},
     "output_type": "execute_result"
    }
   ],
   "source": [
    "X.head()"
   ]
  },
  {
   "cell_type": "code",
   "execution_count": 46,
   "id": "65b77289",
   "metadata": {},
   "outputs": [
    {
     "data": {
      "text/plain": [
       "(10551, 10)"
      ]
     },
     "execution_count": 46,
     "metadata": {},
     "output_type": "execute_result"
    }
   ],
   "source": [
    "X.shape"
   ]
  },
  {
   "cell_type": "markdown",
   "id": "a1e71de3",
   "metadata": {},
   "source": [
    "## Dependent feature"
   ]
  },
  {
   "cell_type": "code",
   "execution_count": 47,
   "id": "82d0e08e",
   "metadata": {},
   "outputs": [
    {
     "data": {
      "text/plain": [
       "(10551,)"
      ]
     },
     "execution_count": 47,
     "metadata": {},
     "output_type": "execute_result"
    }
   ],
   "source": [
    "y.shape"
   ]
  },
  {
   "cell_type": "code",
   "execution_count": 48,
   "id": "2b0bdf95",
   "metadata": {},
   "outputs": [
    {
     "data": {
      "text/plain": [
       "0    0\n",
       "1    0\n",
       "2    0\n",
       "3    0\n",
       "4    0\n",
       "Name: Defaulter, dtype: int64"
      ]
     },
     "execution_count": 48,
     "metadata": {},
     "output_type": "execute_result"
    }
   ],
   "source": [
    "y.head()"
   ]
  },
  {
   "cell_type": "markdown",
   "id": "fc60c3bb",
   "metadata": {},
   "source": [
    "# <font color=Green>Importing sklearn libraries for machine learning<font>"
   ]
  },
  {
   "cell_type": "code",
   "execution_count": 49,
   "id": "6ebc8a73",
   "metadata": {},
   "outputs": [],
   "source": [
    "from sklearn.preprocessing import StandardScaler \n",
    "from sklearn.linear_model  import  LogisticRegression\n",
    "from sklearn.model_selection import train_test_split\n",
    "from statsmodels.stats.outliers_influence import variance_inflation_factor \n",
    "from sklearn.metrics import accuracy_score, confusion_matrix, roc_curve, roc_auc_score"
   ]
  },
  {
   "cell_type": "markdown",
   "id": "2bf6b3a6",
   "metadata": {},
   "source": [
    "# <font color=Green>Train Test Split<font>"
   ]
  },
  {
   "cell_type": "code",
   "execution_count": 50,
   "id": "ff7d9ebc",
   "metadata": {},
   "outputs": [],
   "source": [
    "from sklearn.model_selection import train_test_split\n",
    "X_train, X_test, y_train, y_test = train_test_split(X,y,test_size=0.25, random_state=42)"
   ]
  },
  {
   "cell_type": "code",
   "execution_count": 51,
   "id": "ee914185",
   "metadata": {},
   "outputs": [
    {
     "data": {
      "text/plain": [
       "((7913, 10), (7913,))"
      ]
     },
     "execution_count": 51,
     "metadata": {},
     "output_type": "execute_result"
    }
   ],
   "source": [
    "X_train.shape,y_train.shape"
   ]
  },
  {
   "cell_type": "code",
   "execution_count": 52,
   "id": "43719717",
   "metadata": {},
   "outputs": [
    {
     "data": {
      "text/plain": [
       "((2638, 10), (2638,))"
      ]
     },
     "execution_count": 52,
     "metadata": {},
     "output_type": "execute_result"
    }
   ],
   "source": [
    "X_test.shape,y_test.shape"
   ]
  },
  {
   "cell_type": "markdown",
   "id": "1de1550c",
   "metadata": {},
   "source": [
    "# <font color=Green>Logistic Regression Model Training<font>"
   ]
  },
  {
   "cell_type": "code",
   "execution_count": 53,
   "id": "daff631a",
   "metadata": {},
   "outputs": [],
   "source": [
    "from sklearn.linear_model import LogisticRegression\n",
    "classifier=LogisticRegression()"
   ]
  },
  {
   "cell_type": "code",
   "execution_count": 54,
   "id": "63a9a544",
   "metadata": {},
   "outputs": [],
   "source": [
    "from sklearn.model_selection import GridSearchCV\n",
    "parameter = {'penalty':['l1','l2','elasticnet'],'C':[1,2,3,4,5,6,10,20,30,40,50],'max_iter':[100,200,300]}"
   ]
  },
  {
   "cell_type": "code",
   "execution_count": 55,
   "id": "fd502ba7",
   "metadata": {},
   "outputs": [],
   "source": [
    "classifier_regressor_bal=GridSearchCV(classifier,param_grid=parameter,scoring='accuracy',cv=5)"
   ]
  },
  {
   "cell_type": "markdown",
   "id": "d42553af",
   "metadata": {},
   "source": [
    "## Standarizing or Feature Scaling"
   ]
  },
  {
   "cell_type": "code",
   "execution_count": 56,
   "id": "a3bc8a28",
   "metadata": {},
   "outputs": [
    {
     "data": {
      "text/plain": [
       "GridSearchCV(cv=5, estimator=LogisticRegression(),\n",
       "             param_grid={'C': [1, 2, 3, 4, 5, 6, 10, 20, 30, 40, 50],\n",
       "                         'max_iter': [100, 200, 300],\n",
       "                         'penalty': ['l1', 'l2', 'elasticnet']},\n",
       "             scoring='accuracy')"
      ]
     },
     "execution_count": 56,
     "metadata": {},
     "output_type": "execute_result"
    }
   ],
   "source": [
    "classifier_regressor_bal.fit(X_train,y_train)"
   ]
  },
  {
   "cell_type": "code",
   "execution_count": 57,
   "id": "baf1a2af",
   "metadata": {},
   "outputs": [
    {
     "name": "stdout",
     "output_type": "stream",
     "text": [
      "{'C': 2, 'max_iter': 200, 'penalty': 'l2'}\n"
     ]
    }
   ],
   "source": [
    "print(classifier_regressor_bal.best_params_)"
   ]
  },
  {
   "cell_type": "code",
   "execution_count": 58,
   "id": "4c3f37aa",
   "metadata": {},
   "outputs": [
    {
     "name": "stdout",
     "output_type": "stream",
     "text": [
      "0.9533687177205981\n"
     ]
    }
   ],
   "source": [
    "print(classifier_regressor_bal.best_score_)"
   ]
  },
  {
   "cell_type": "markdown",
   "id": "7884b2a9",
   "metadata": {},
   "source": [
    "# <font color=Green>Prediction<font>"
   ]
  },
  {
   "cell_type": "code",
   "execution_count": 59,
   "id": "1c60860a",
   "metadata": {},
   "outputs": [
    {
     "data": {
      "text/plain": [
       "array([0, 0, 1, ..., 1, 0, 0], dtype=int64)"
      ]
     },
     "execution_count": 59,
     "metadata": {},
     "output_type": "execute_result"
    }
   ],
   "source": [
    "y_bal_pred = classifier_regressor_bal.predict(X_test)\n",
    "y_bal_pred"
   ]
  },
  {
   "cell_type": "markdown",
   "id": "52d316c8",
   "metadata": {},
   "source": [
    "# <font color=Green>Accuracy<font>"
   ]
  },
  {
   "cell_type": "code",
   "execution_count": 60,
   "id": "26667da9",
   "metadata": {},
   "outputs": [
    {
     "name": "stdout",
     "output_type": "stream",
     "text": [
      "0.954510993176649\n"
     ]
    }
   ],
   "source": [
    "from sklearn.metrics import accuracy_score,classification_report\n",
    "bal_score = accuracy_score(y_bal_pred,y_test)\n",
    "print(bal_score)"
   ]
  },
  {
   "cell_type": "markdown",
   "id": "9ec94089",
   "metadata": {},
   "source": [
    "# <font color=Green>Classification Report<font>"
   ]
  },
  {
   "cell_type": "code",
   "execution_count": 61,
   "id": "c6196e71",
   "metadata": {},
   "outputs": [
    {
     "name": "stdout",
     "output_type": "stream",
     "text": [
      "              precision    recall  f1-score   support\n",
      "\n",
      "           0       0.97      0.98      0.97      2244\n",
      "           1       0.86      0.83      0.84       394\n",
      "\n",
      "    accuracy                           0.95      2638\n",
      "   macro avg       0.92      0.90      0.91      2638\n",
      "weighted avg       0.95      0.95      0.95      2638\n",
      "\n"
     ]
    }
   ],
   "source": [
    "print(classification_report(y_bal_pred,y_test))"
   ]
  },
  {
   "cell_type": "markdown",
   "id": "4cf1029f",
   "metadata": {},
   "source": [
    "# <font color=Green>Performance Metrix<font>"
   ]
  },
  {
   "cell_type": "markdown",
   "id": "2b513cbf",
   "metadata": {},
   "source": [
    "# <font color=Green>Confusion Metrix<font>"
   ]
  },
  {
   "cell_type": "code",
   "execution_count": 62,
   "id": "3d290a4a",
   "metadata": {},
   "outputs": [
    {
     "data": {
      "text/plain": [
       "array([[2192,   52],\n",
       "       [  68,  326]], dtype=int64)"
      ]
     },
     "execution_count": 62,
     "metadata": {},
     "output_type": "execute_result"
    }
   ],
   "source": [
    "conf_mat_bal=confusion_matrix(y_bal_pred,y_test)\n",
    "conf_mat_bal"
   ]
  },
  {
   "cell_type": "code",
   "execution_count": 63,
   "id": "98d969e0",
   "metadata": {},
   "outputs": [
    {
     "name": "stdout",
     "output_type": "stream",
     "text": [
      "true_positive: 2192\n",
      "false_positive: 52\n",
      "true_negative: 326\n",
      "false_negative: 68\n"
     ]
    }
   ],
   "source": [
    "true_positive = conf_mat_bal[0][0]\n",
    "false_positive = conf_mat_bal[0][1]\n",
    "false_negative = conf_mat_bal[1][0]\n",
    "true_negative = conf_mat_bal[1][1]\n",
    "print('true_positive:',true_positive)\n",
    "print('false_positive:',false_positive)\n",
    "print('true_negative:',true_negative)\n",
    "print('false_negative:',false_negative)"
   ]
  },
  {
   "cell_type": "markdown",
   "id": "f26d50b2",
   "metadata": {},
   "source": [
    "# <font color=Green>Precision<font>"
   ]
  },
  {
   "cell_type": "code",
   "execution_count": 64,
   "id": "a0dbf45f",
   "metadata": {},
   "outputs": [
    {
     "data": {
      "text/plain": [
       "0.9768270944741533"
      ]
     },
     "execution_count": 64,
     "metadata": {},
     "output_type": "execute_result"
    }
   ],
   "source": [
    "bal_Precision = true_positive/(true_positive+false_positive)\n",
    "bal_Precision"
   ]
  },
  {
   "cell_type": "markdown",
   "id": "aea1c429",
   "metadata": {},
   "source": [
    "# <font color=Green>Recall<font>"
   ]
  },
  {
   "cell_type": "code",
   "execution_count": 65,
   "id": "39549ee9",
   "metadata": {},
   "outputs": [
    {
     "data": {
      "text/plain": [
       "0.9699115044247788"
      ]
     },
     "execution_count": 65,
     "metadata": {},
     "output_type": "execute_result"
    }
   ],
   "source": [
    "bal_recall = true_positive/(true_positive+false_negative)\n",
    "bal_recall"
   ]
  },
  {
   "cell_type": "markdown",
   "id": "e62e2305",
   "metadata": {},
   "source": [
    "# <font color=Green>F1-Score<font>"
   ]
  },
  {
   "cell_type": "code",
   "execution_count": 66,
   "id": "20d70ddb",
   "metadata": {},
   "outputs": [
    {
     "data": {
      "text/plain": [
       "0.9733570159857904"
      ]
     },
     "execution_count": 66,
     "metadata": {},
     "output_type": "execute_result"
    }
   ],
   "source": [
    "F1_Score_bal = 2*(bal_recall * bal_Precision) / (bal_recall + bal_Precision)\n",
    "F1_Score_bal"
   ]
  },
  {
   "cell_type": "code",
   "execution_count": 67,
   "id": "ffccd98a",
   "metadata": {},
   "outputs": [
    {
     "name": "stdout",
     "output_type": "stream",
     "text": [
      "              precision    recall  f1-score   support\n",
      "\n",
      "           0       0.97      0.98      0.97      2244\n",
      "           1       0.86      0.83      0.84       394\n",
      "\n",
      "    accuracy                           0.95      2638\n",
      "   macro avg       0.92      0.90      0.91      2638\n",
      "weighted avg       0.95      0.95      0.95      2638\n",
      "\n"
     ]
    }
   ],
   "source": [
    "print(classification_report(y_bal_pred,y_test))"
   ]
  },
  {
   "cell_type": "markdown",
   "id": "e5600fb7",
   "metadata": {},
   "source": [
    "# <font color=Green>AUC<font>"
   ]
  },
  {
   "cell_type": "code",
   "execution_count": 68,
   "id": "4ae9a32d",
   "metadata": {},
   "outputs": [
    {
     "name": "stdout",
     "output_type": "stream",
     "text": [
      "Area under curve of original dataset 0.9021191309934219\n"
     ]
    }
   ],
   "source": [
    "auc = roc_auc_score(y_bal_pred, y_test)\n",
    "print(\"Area under curve of original dataset\",auc)"
   ]
  },
  {
   "cell_type": "code",
   "execution_count": 69,
   "id": "c2c8360a",
   "metadata": {},
   "outputs": [],
   "source": [
    "i_report = []\n",
    "i_report.append([\"Accuracy\",bal_score])\n",
    "i_report.append([\"Precision\",bal_Precision])\n",
    "i_report.append([\"Recall\",bal_recall])\n",
    "i_report.append([\"F1-Score\",F1_Score_bal])\n",
    "i_report.append([\"AUC\", auc])"
   ]
  },
  {
   "cell_type": "code",
   "execution_count": 70,
   "id": "d83b05b0",
   "metadata": {},
   "outputs": [
    {
     "data": {
      "text/html": [
       "<div>\n",
       "<style scoped>\n",
       "    .dataframe tbody tr th:only-of-type {\n",
       "        vertical-align: middle;\n",
       "    }\n",
       "\n",
       "    .dataframe tbody tr th {\n",
       "        vertical-align: top;\n",
       "    }\n",
       "\n",
       "    .dataframe thead th {\n",
       "        text-align: right;\n",
       "    }\n",
       "</style>\n",
       "<table border=\"1\" class=\"dataframe\">\n",
       "  <thead>\n",
       "    <tr style=\"text-align: right;\">\n",
       "      <th></th>\n",
       "      <th>Particulars</th>\n",
       "      <th>values</th>\n",
       "    </tr>\n",
       "  </thead>\n",
       "  <tbody>\n",
       "    <tr>\n",
       "      <th>0</th>\n",
       "      <td>Accuracy</td>\n",
       "      <td>0.954511</td>\n",
       "    </tr>\n",
       "    <tr>\n",
       "      <th>1</th>\n",
       "      <td>Precision</td>\n",
       "      <td>0.976827</td>\n",
       "    </tr>\n",
       "    <tr>\n",
       "      <th>2</th>\n",
       "      <td>Recall</td>\n",
       "      <td>0.969912</td>\n",
       "    </tr>\n",
       "    <tr>\n",
       "      <th>3</th>\n",
       "      <td>F1-Score</td>\n",
       "      <td>0.973357</td>\n",
       "    </tr>\n",
       "    <tr>\n",
       "      <th>4</th>\n",
       "      <td>AUC</td>\n",
       "      <td>0.902119</td>\n",
       "    </tr>\n",
       "  </tbody>\n",
       "</table>\n",
       "</div>"
      ],
      "text/plain": [
       "  Particulars    values\n",
       "0    Accuracy  0.954511\n",
       "1   Precision  0.976827\n",
       "2      Recall  0.969912\n",
       "3    F1-Score  0.973357\n",
       "4         AUC  0.902119"
      ]
     },
     "execution_count": 70,
     "metadata": {},
     "output_type": "execute_result"
    }
   ],
   "source": [
    "Report = pd.DataFrame(i_report,columns= ['Particulars','values'])\n",
    "Report"
   ]
  },
  {
   "cell_type": "code",
   "execution_count": null,
   "id": "0094d3f6",
   "metadata": {},
   "outputs": [],
   "source": []
  }
 ],
 "metadata": {
  "kernelspec": {
   "display_name": "Python 3 (ipykernel)",
   "language": "python",
   "name": "python3"
  },
  "language_info": {
   "codemirror_mode": {
    "name": "ipython",
    "version": 3
   },
   "file_extension": ".py",
   "mimetype": "text/x-python",
   "name": "python",
   "nbconvert_exporter": "python",
   "pygments_lexer": "ipython3",
   "version": "3.9.12"
  }
 },
 "nbformat": 4,
 "nbformat_minor": 5
}
